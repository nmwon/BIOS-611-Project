{
 "cells": [
  {
   "cell_type": "markdown",
   "id": "1427420c-0152-4692-a2de-5c9d9802bcab",
   "metadata": {},
   "source": [
    "1. What is the difference between global, nonlocal and normal\n",
    "   variables?"
   ]
  },
  {
   "cell_type": "markdown",
   "id": "0d34aa53-e2e6-467f-8de8-5c28e10ce18d",
   "metadata": {},
   "source": [
    "\n"
   ]
  }
 ],
 "metadata": {
  "kernelspec": {
   "display_name": "Python 3 (ipykernel)",
   "language": "python",
   "name": "python3"
  },
  "language_info": {
   "codemirror_mode": {
    "name": "ipython",
    "version": 3
   },
   "file_extension": ".py",
   "mimetype": "text/x-python",
   "name": "python",
   "nbconvert_exporter": "python",
   "pygments_lexer": "ipython3",
   "version": "3.8.10"
  }
 },
 "nbformat": 4,
 "nbformat_minor": 5
}

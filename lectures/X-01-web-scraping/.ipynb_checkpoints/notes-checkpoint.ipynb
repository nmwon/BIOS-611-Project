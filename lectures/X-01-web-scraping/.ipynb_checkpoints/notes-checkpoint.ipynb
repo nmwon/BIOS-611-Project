{
 "cells": [
  {
   "cell_type": "markdown",
   "id": "7bde59df-db4e-46f0-9e42-06a2bbf1aaeb",
   "metadata": {},
   "source": [
    "Web Scraping\n",
    "============\n",
    "\n",
    "Web scraping is an ugly name for a reasonable thing: some data is available via your browser and you want to get it into some kind of reasonable shape without literally copying and pasting everything into a spreadsheet somewhere.\n",
    "\n",
    "You might think that if you work with a company that wants you to do data science that you'll always get nice data from them in the form of a database connection or just a csv file. That is often not the case. Getting database accesss can be a politically challenging thing in some situations (database admins can be quite protective of their territory). Sometimes its better and easier in that situation to just scrape the data from the web front end of whatever system you're working on. This is often good enough for a prototype which can then be leveraged for more formal access to the data.\n",
    "\n",
    "Language Selection\n",
    "==================\n",
    "\n",
    "As we know from various lectures, your browser is just a fancy HTTP protocol client: it makes requests and renders the response (sometimes making multiple requests in the back and in response to local events or even as part of its major rendering strategy). Therefor we can use any language to do web scraping as long as it supports issueing HTTP requests and receiving the body of the response back. In fact, there are very capable command line tools (curl, wget) in Unix that you can call from almost any language at all to serve this purpose.\n",
    "\n",
    "But once you get the data you want you don't want to have to grub though it character by character to get what you want. Its very helpful if your language of choice makes it easy to parse the resulting HTML or JSON data into a native data structure so that you can more easily and reliably extract the data. Both R and Python provide packages to this end. Today we're going to use Python but similar workflows are available in R or Javascript or Java or whatever. Its a common task.\n",
    "\n",
    "Don't DDOS\n",
    "==========\n",
    "\n",
    "DDOS stands for \"distributed denial of service\" and its a sort of attack you can launch at a website or other web service. In a DDOS you flood a server with millions of requests a second which has the tendency to bring most servers down. At the very least, it tends to prevent legitimate traffic from accessing the service: they end up having to wait in line behind all the garbage traffic.\n",
    "\n",
    "Many websites, therefore, detect unusual access patterns and block IP addresses that make too frequent requests. Therefore, even when writing the simplest scraper, it pays to \n",
    "\n",
    "1. Make sure you don't issue too many requests too fast\n",
    "2. Cache the results of requests so that you never request the same page over and over (say during testing)\n",
    "\n",
    "This is actually pretty easy to set up, so there is no reason not to do it.\n",
    "\n",
    "BeautifulSoup\n",
    "=============\n",
    "\n",
    "We're going to use BeautifulSoup:\n",
    "\n",
    "```\n",
    "RUN apt update && apt-get install -y emacs openssh-server python3-pip\n",
    "RUN pip3 install beautifulsoup4  pandas numpy pandasql \n",
    "```\n",
    "\n",
    "Back in the day people used to write HTML by hand and a lot of it was pretty bad (it failed to follow all the rules). BeautifulSoup will make a decent effort to figure out what was intended, even if the HTML isn't perfect. This is handy.\n",
    "\n",
    "Getting Started\n",
    "===============\n",
    "\n",
    "Let's begin by learning how to make HTTP requests."
   ]
  },
  {
   "cell_type": "code",
   "execution_count": 1,
   "id": "c8665daf-8145-43b4-95c8-0672ba7ed9bc",
   "metadata": {},
   "outputs": [
    {
     "data": {
      "text/plain": [
       "<Response [200]>"
      ]
     },
     "execution_count": 1,
     "metadata": {},
     "output_type": "execute_result"
    }
   ],
   "source": [
    "from requests import get as get_raw\n",
    "\n",
    "\n",
    "get_raw(\"http://tmbw.net/wiki/Lyrics:Window\")"
   ]
  },
  {
   "cell_type": "markdown",
   "id": "f963670c-046f-4164-99b6-0c98e6d38305",
   "metadata": {},
   "source": [
    "There is that \"200\" HTTP status code. That tells us that the request succeeded. Any other code is probably an error, but you'll likely see 404 (page not found) and 500 (internal server error). 404 almost always means what it says, but 500 is a coy way of saying \"you can't access this resources and I'm not even going to tell you whether or not it exists.\" Its outside of the scope of this lecture to discuss how to scrape \"private\" pages, but it is possible: you just have to add the right stuff to your request header. This is, I believe, something of a legal grey area so tread lightly.\n",
    "\n",
    "Let's get a little more fun information from the page."
   ]
  },
  {
   "cell_type": "code",
   "execution_count": 5,
   "id": "6ee22459-4666-4538-a9e7-7a5169f74e2c",
   "metadata": {},
   "outputs": [
    {
     "data": {
      "text/plain": [
       "b'<!DOCTYPE html>\\n<html lang=\"en\" dir=\"ltr\" class=\"client-nojs\">\\n<head>\\n<meta charset=\"UTF-8\" />\\n<title>Lyrics:Window - TMBW: The They Might Be Giants Knowledge Base</title>\\n<meta name=\"generator\" content=\"MediaWiki 1.25.0\" />\\n<link rel=\"alternate\" type=\"application/x-wiki\" title=\"Edit\" href=\"/wiki/index.php?title=Lyrics:Window&amp;action=edit\" />\\n<link rel=\"edit\" title=\"Edit\" href=\"/wiki/index.php?title=Lyrics:Window&amp;action=edit\" />\\n<link rel=\"apple-touch-icon\" href=\"/apple-touch-icon.png\" />'"
      ]
     },
     "execution_count": 5,
     "metadata": {},
     "output_type": "execute_result"
    }
   ],
   "source": [
    "get_raw(\"http://tmbw.net/wiki/Lyrics:Window\").content[0:500]"
   ]
  },
  {
   "cell_type": "markdown",
   "id": "5b4e1d86-48aa-4921-8c47-6442eb140b97",
   "metadata": {},
   "source": [
    "I've truncated the output we got back, but you can see that the \"content\" we've received back from the server is a real life HTML document (represented as a string). Our next conceptual step is to parse this and search it for the data we want. But before we do that, let's take care of caching our results so we don't rudely make too many requests against this server."
   ]
  },
  {
   "cell_type": "code",
   "execution_count": 8,
   "id": "432756ba-297b-4b8c-b4c8-f52d34e69ade",
   "metadata": {},
   "outputs": [
    {
     "data": {
      "text/plain": [
       "['a8fe29d5e9cb70e54efcc7ae382a2519',\n",
       " 'a8fe29d5e9cb70e54efcc7ae382a2519',\n",
       " 'ee7e1fd80caa65cd936de2baf6a9a96c']"
      ]
     },
     "execution_count": 8,
     "metadata": {},
     "output_type": "execute_result"
    }
   ],
   "source": [
    "from hashlib import md5 as hash_raw\n",
    "\n",
    "def hash(s):\n",
    "    return hash_raw(s.encode()).hexdigest()\n",
    "\n",
    "[hash(\"http://tmbw.net/wiki/Lyrics:Window\"),\n",
    " hash(\"http://tmbw.net/wiki/Lyrics:Window\"),\n",
    " hash(\"http://tmbw.net/wiki/Lyrics:SnailShell\")]\n"
   ]
  },
  {
   "cell_type": "markdown",
   "id": "574f0fc9-2b4a-4e95-bd4b-d929209df827",
   "metadata": {},
   "source": [
    "We've created a function here which turns our URL into a unique string. We'll save the results of any request to a file named after this string whenever we make a request. But first we'll see if such a file exists and if it does, we'll load the response from disk instead of issuing a request. If we ever want to clear our cache we can just delete the contents of our cache directory.\n",
    "\n",
    "Caching like this will also tend to speed up complicated scraping jobs (which often revisit the same page repeatedly as they \"crawl\" a website)."
   ]
  },
  {
   "cell_type": "code",
   "execution_count": 88,
   "id": "b7591d62-812d-4e32-aa8f-27a446e6b7f9",
   "metadata": {},
   "outputs": [],
   "source": [
    "import os\n",
    "\n",
    "cachedir = \"lecture_scrape_cache\"\n",
    "if not os.path.isdir(cachedir):\n",
    "    os.mkdir(cachedir);\n",
    "\n",
    "def to_cache_name(url):\n",
    "    return \"./{}/{}\".format(cachedir, hash(url));\n",
    "\n",
    "def read_file(s):\n",
    "    with open(s,'r') as fd:\n",
    "        return fd.read();\n",
    "    \n",
    "def write_file(s, content):\n",
    "    with open(s,'w') as fd:\n",
    "        fd.write(content)\n",
    "    return s;\n",
    "\n",
    "verbose = True;\n",
    "\n",
    "def get(url):\n",
    "    cache_name = to_cache_name(url);\n",
    "    if os.path.isfile(cache_name):\n",
    "        if verbose:\n",
    "            print(\"Cache hit: {}\".format(url));\n",
    "        return read_file(cache_name);\n",
    "    else:\n",
    "        if verbose:\n",
    "            print(\"Cache miss: {}\".format(url));\n",
    "        content = get_raw(url).content.decode();\n",
    "        write_file(cache_name, content);\n",
    "        return content;\n",
    "\n"
   ]
  },
  {
   "cell_type": "code",
   "execution_count": 25,
   "id": "f010935a-d092-4e2c-8f74-614bbfb53349",
   "metadata": {},
   "outputs": [
    {
     "name": "stdout",
     "output_type": "stream",
     "text": [
      "Cache miss: http://tmbw.net/wiki/Lyrics:Window\n"
     ]
    },
    {
     "data": {
      "text/plain": [
       "'<!DOCTYPE html>\\n<html lang=\"en\" dir=\"ltr\" class=\"client-nojs\">\\n<head>\\n<meta charset=\"UTF-8\" />\\n<title>Lyrics:Window - TMBW: The They Might Be Giants Knowledge Base</title>\\n<meta name=\"generator\" content=\"MediaWiki 1.25.0\" />\\n<link rel=\"alternate\" type=\"application/x-wiki\" title=\"Edit\" href=\"/wiki/index.php?title=Lyrics:Window&amp;action=edit\" />\\n<link rel=\"edit\" title=\"Edit\" href=\"/wiki/index.php?title=Lyrics:Window&amp;action=edit\" />\\n<link rel=\"apple-touch-icon\" href=\"/apple-touch-icon.png\" />'"
      ]
     },
     "execution_count": 25,
     "metadata": {},
     "output_type": "execute_result"
    }
   ],
   "source": [
    "! rm -f lecture_scrape_cache/*\n",
    "\n",
    "get(\"http://tmbw.net/wiki/Lyrics:Window\")[0:500]"
   ]
  },
  {
   "cell_type": "code",
   "execution_count": 27,
   "id": "3e8bbe96-2f59-4e47-9f61-154cf04bb4ac",
   "metadata": {},
   "outputs": [
    {
     "name": "stdout",
     "output_type": "stream",
     "text": [
      "Cache hit: http://tmbw.net/wiki/Lyrics:Window\n"
     ]
    },
    {
     "data": {
      "text/plain": [
       "'<!DOCTYPE html>\\n<html lang=\"en\" dir=\"ltr\" class=\"client-nojs\">\\n<head>\\n<meta charset=\"UTF-8\" />\\n<title>Lyrics:Window - TMBW: The They Might Be Giants Knowledge Base</title>\\n<meta name=\"generator\" content=\"MediaWiki 1.25.0\" />\\n<link rel=\"alternate\" type=\"application/x-wiki\" title=\"Edit\" href=\"/wiki/index.php?title=Lyrics:Window&amp;action=edit\" />\\n<link rel=\"edit\" title=\"Edit\" href=\"/wiki/index.php?title=Lyrics:Window&amp;action=edit\" />\\n<link rel=\"apple-touch-icon\" href=\"/apple-touch-icon.png\" />'"
      ]
     },
     "execution_count": 27,
     "metadata": {},
     "output_type": "execute_result"
    }
   ],
   "source": [
    "get(\"http://tmbw.net/wiki/Lyrics:Window\")[0:500]"
   ]
  },
  {
   "cell_type": "markdown",
   "id": "2280ffc9-1baf-4dd6-8695-d62b606544bf",
   "metadata": {},
   "source": [
    "I also like to do one more \"polite\" thing which web scraping, which is to limit the number of requests I make by putting a delay before each access."
   ]
  },
  {
   "cell_type": "code",
   "execution_count": 30,
   "id": "243059f0-2d60-4e15-b8e3-e9deee30d9a1",
   "metadata": {},
   "outputs": [],
   "source": [
    "from time import sleep\n",
    "\n",
    "get_delay = 1; # second\n",
    "def get(url):\n",
    "    cache_name = to_cache_name(url);\n",
    "    if os.path.isfile(cache_name):\n",
    "        print(\"Cache hit: {}\".format(url));\n",
    "        return read_file(cache_name);\n",
    "    else:\n",
    "        print(\"Cache miss: {}\".format(url));\n",
    "        sleep(get_delay);\n",
    "        content = get_raw(url).content.decode();\n",
    "        write_file(cache_name, content);\n",
    "        return content;"
   ]
  },
  {
   "cell_type": "markdown",
   "id": "0305fce1-bb86-4435-a4e3-1dc02d4cbbdd",
   "metadata": {},
   "source": [
    "By modifying the delay we can change how polite we are. 1 Second is probably a bit conservative. "
   ]
  },
  {
   "cell_type": "code",
   "execution_count": 31,
   "id": "110ae1b2-184b-4cd1-a389-482482925e98",
   "metadata": {},
   "outputs": [],
   "source": [
    "get_delay = 0.1;"
   ]
  },
  {
   "cell_type": "markdown",
   "id": "60200535-7651-41fa-97d3-04e7f03dba40",
   "metadata": {},
   "source": [
    "Now we are ready to start scraping in earnest. Let's look at a typical page as an example:\n",
    "[http://tmbw.net/wiki/Lyrics:Window](http://tmbw.net/wiki/Lyrics:Window). Once we've opened the page we can inspect the HTML element there and decide what we want to get. In this example I want to extract the song title, the band, the year and the lyrics themselves. The way it works when you scrape is you try to find some unique properties of the elements you're interested in grabbing. Then you can use BeautifulSoup to search for those elements and extract the results from them.\n",
    "\n",
    "In this case everything we want is in the \"lyricstable\" table element. And then the data we want is in a series of rows. This is actually a little bit tricky of a scraping job because the individual rows don't tell us all that much about what they have in them. We'll have to rely on the order in which they appear which seems brittle. We'll try to do a little better than that but let's begin with the simplest strategy."
   ]
  },
  {
   "cell_type": "code",
   "execution_count": 36,
   "id": "3e8e1c24-12c3-4eeb-b0a1-b964ed5b37be",
   "metadata": {},
   "outputs": [
    {
     "name": "stdout",
     "output_type": "stream",
     "text": [
      "Cache hit: http://tmbw.net/wiki/Lyrics:Window\n"
     ]
    },
    {
     "data": {
      "text/plain": [
       "'<!DOCTYPE html>\\n<html class=\"client-nojs\" dir=\"ltr\" lang=\"en\">\\n<head>\\n<meta charset=\"utf-8\"/>\\n<title'"
      ]
     },
     "execution_count": 36,
     "metadata": {},
     "output_type": "execute_result"
    }
   ],
   "source": [
    "from bs4 import BeautifulSoup as bs\n",
    "def parse_html(html):\n",
    "    return bs(html);\n",
    "\n",
    "def get_document(url):\n",
    "    return parse_html(get(url));\n",
    "\n",
    "repr(get_document(\"http://tmbw.net/wiki/Lyrics:Window\"))[0:100]"
   ]
  },
  {
   "cell_type": "code",
   "execution_count": 37,
   "id": "ba418e36-2ae2-46ce-afb5-63062076ad42",
   "metadata": {},
   "outputs": [],
   "source": [
    "def get_song_table(url):\n",
    "    doc = get_document(url);\n",
    "    return doc.find(\"table\",class_=\"lyricstable\");"
   ]
  },
  {
   "cell_type": "code",
   "execution_count": 39,
   "id": "e37ddd55-398c-4f61-873d-cc40c919cce1",
   "metadata": {},
   "outputs": [
    {
     "name": "stdout",
     "output_type": "stream",
     "text": [
      "Cache hit: http://tmbw.net/wiki/Lyrics:Window\n"
     ]
    },
    {
     "data": {
      "text/plain": [
       "<table align=\"center\" cellspacing=\"3\" class=\"lyricstable\">\n",
       "<tr>\n",
       "<td style=\"text-align:right;\"><b>Window</b>\n",
       "</td></tr>\n",
       "<tr>\n",
       "<td style=\"text-align:right;\"><b>By: <a href=\"/wiki/They_Might_Be_Giants\" title=\"They Might Be Giants\">They Might Be Giants</a></b>\n",
       "</td></tr>\n",
       "<tr>\n",
       "<td style=\"text-align:right;\"><b>Year: <a href=\"/wiki/Category:Songs_Released_In_1994\" title=\"Category:Songs Released In 1994\">1994</a></b>\n",
       "</td></tr>\n",
       "<tr>\n",
       "<td><div class=\"lyrics-table\" style=\"white-space: pre-wrap;\">\n",
       "<p>Look at all the people in the window\n",
       "I'm checking out the people in the window\n",
       "I was uncomfortable\n",
       "Now I'm uncomfortable\n",
       "The trouble I encountered when I thought it was, it was a window\n",
       "</p><p>It was a catalog\n",
       "Of many women, men\n",
       "The window\n",
       "Window\n",
       "Window\n",
       "</p><p>Look at all the people in the window\n",
       "I'm checking out the people in the window\n",
       "I was uncomfortable\n",
       "Now I'm uncomfortable\n",
       "The trouble I encountered when I thought it was, it was a window\n",
       "</p>\n",
       "</div>\n",
       "</td></tr></table>"
      ]
     },
     "execution_count": 39,
     "metadata": {},
     "output_type": "execute_result"
    }
   ],
   "source": [
    "test_url = \"http://tmbw.net/wiki/Lyrics:Window\"\n",
    "get_song_table(test_url)"
   ]
  },
  {
   "cell_type": "markdown",
   "id": "b5f92fb0-a0f6-44e9-8bd5-a61f71723258",
   "metadata": {},
   "source": [
    "This looks like the data we want. First the easy thing: the lyrics. These are at least in a unique div with class \"lyrics-table\". The other elements are in \"td\" tags and I think the best bet we've got is to use their \"style\" attribute (they are all right aligned)."
   ]
  },
  {
   "cell_type": "code",
   "execution_count": 51,
   "id": "c6821965-9d59-4df7-8a6e-9ceee3a807a3",
   "metadata": {},
   "outputs": [
    {
     "name": "stdout",
     "output_type": "stream",
     "text": [
      "Cache hit: http://tmbw.net/wiki/Lyrics:Window\n"
     ]
    },
    {
     "data": {
      "text/plain": [
       "{'title': 'Window',\n",
       " 'by': ' They Might Be Giants',\n",
       " 'year': ' 1994',\n",
       " 'lyrics': ['Look at all the people in the window',\n",
       "  \"I'm checking out the people in the window\",\n",
       "  'I was uncomfortable',\n",
       "  \"Now I'm uncomfortable\",\n",
       "  'The trouble I encountered when I thought it was, it was a window',\n",
       "  'It was a catalog',\n",
       "  'Of many women, men',\n",
       "  'The window',\n",
       "  'Window',\n",
       "  'Window',\n",
       "  'Look at all the people in the window',\n",
       "  \"I'm checking out the people in the window\",\n",
       "  'I was uncomfortable',\n",
       "  \"Now I'm uncomfortable\",\n",
       "  'The trouble I encountered when I thought it was, it was a window']}"
      ]
     },
     "execution_count": 51,
     "metadata": {},
     "output_type": "execute_result"
    }
   ],
   "source": [
    "def get_song_data(url):\n",
    "    tbl = get_song_table(url);\n",
    "    out = {};\n",
    "    lyrics = tbl.find(\"div\",class_=\"lyrics-table\").text.strip().split(\"\\n\");\n",
    "    tds = tbl.find_all(\"td\", attrs={\"style\":\"text-align:right;\"})\n",
    "    out[\"title\"] = tds[0].text.strip();\n",
    "    out[\"by\"] = tds[1].text.strip().split(\":\")[1];\n",
    "    out[\"year\"] = tds[2].text.strip().split(\":\")[1];\n",
    "    out[\"lyrics\"] = lyrics;\n",
    "    return out\n",
    "get_song_data(test_url)"
   ]
  },
  {
   "cell_type": "markdown",
   "id": "dc6011a5-e29b-4747-be39-986e85c904bb",
   "metadata": {},
   "source": [
    "While I worked on this I had to iterate on these functions over and over. Because my code transparently caches the results I only had to make a single http request near the top of the lecture. Let's try another page to see if things work the way we expect."
   ]
  },
  {
   "cell_type": "code",
   "execution_count": 54,
   "id": "82e81251-825d-499d-90ff-7521710b7683",
   "metadata": {},
   "outputs": [
    {
     "name": "stdout",
     "output_type": "stream",
     "text": [
      "Cache hit: http://tmbw.net/wiki/Lyrics:A_Self_Called_Nowhere\n"
     ]
    },
    {
     "data": {
      "text/plain": [
       "'{\\'title\\': \\'A Self Called Nowhere\\', \\'by\\': \\' They Might Be Giants\\', \\'year\\': \\' 1994\\', \\'lyrics\\': [\"I\\'m sitting on the curb\", \\'Of the empty parking lot\\', \\'Of the store where they let me play the organ\\', \"I\\'m waiting for my ride\", \\'But I want to wait insid'"
      ]
     },
     "execution_count": 54,
     "metadata": {},
     "output_type": "execute_result"
    }
   ],
   "source": [
    "str(get_song_data(\"http://tmbw.net/wiki/Lyrics:A_Self_Called_Nowhere\"))[0:250]"
   ]
  },
  {
   "cell_type": "markdown",
   "id": "18523ce2-7118-4dc6-9acd-69a3f1e80a06",
   "metadata": {},
   "source": [
    "Recursive Scraping\n",
    "==================\n",
    "\n",
    "Its not atypical for us to want to scrape a large number of similar pages. In this example we might be interest in all the lyrics and information for all of TMBG's songs ever. We could find these urls one by one and pass them to our scraper, but that is a lot of work. The thing to do here is to let the structure of the web page guide us. Let'se see if we can figure out how we can use the page itself to get the urls we need.\n",
    "\n",
    "If we visit the main page of the site we can see there is a discography page. This looks like a great place to start, since it lists all of their albums of any type. If each album page we reach by this page has the song urls somewhere, then we're in business.\n",
    "\n",
    "Sure enough, each release page contains a track listing section with links to the lyrics pages. It seems like we can extract a list of lyrics links from each page. These pages might be formatted different on each page, so let's rely on something that seems pretty solid: a link to a lyrics page is an \"a\" element with \"http://tmbw.net/wiki/Lyrics:\" as the first part of the url.\n",
    "\n",
    "But first, let's write a scraper to get the album list from the discography page.\n",
    "\n",
    "Discography\n",
    "-----------"
   ]
  },
  {
   "cell_type": "code",
   "execution_count": 69,
   "id": "ae962fe3-4bc8-4231-bac9-c792bfd54820",
   "metadata": {},
   "outputs": [
    {
     "name": "stdout",
     "output_type": "stream",
     "text": [
      "Cache hit: http://tmbw.net/wiki/Discography\n"
     ]
    },
    {
     "data": {
      "text/plain": [
       "[{'year': 1985,\n",
       "  'title': 'Wiggle Diskette',\n",
       "  'url': 'http://tmbw.net/wiki/Wiggle_Diskette'},\n",
       " {'year': 1985,\n",
       "  'title': '1985 Demo Tape',\n",
       "  'url': 'http://tmbw.net/wiki/1985_Demo_Tape'},\n",
       " {'year': 1986,\n",
       "  'title': 'They Might Be Giants - Joshua Fried Split Single',\n",
       "  'url': 'http://tmbw.net/wiki/They_Might_Be_Giants_-_Joshua_Fried_Split_Single'},\n",
       " {'year': 1986,\n",
       "  'title': 'They Might Be Giants',\n",
       "  'url': 'http://tmbw.net/wiki/They_Might_Be_Giants_(Album)'}]"
      ]
     },
     "execution_count": 69,
     "metadata": {},
     "output_type": "execute_result"
    }
   ],
   "source": [
    "def get_album_list(url):\n",
    "    doc = get_document(url);\n",
    "    discog_table = doc.find(\"table\", id = \"discog\");\n",
    "    rows = discog_table.find_all(\"tr\");\n",
    "    def process_row(row):\n",
    "        vals = row.find_all(\"td\");\n",
    "        year = vals[0].text.strip();\n",
    "        album_url = vals[1].find(\"a\")['href']\n",
    "        title = vals[1].text.strip();\n",
    "        return {\"year\":int(year), \"title\":title, \"url\":\"http://tmbw.net\"+album_url};\n",
    "    return [ process_row(row) for row in rows if len(row.find_all(\"td\")) >= 2 ];\n",
    "\n",
    "get_album_list(\"http://tmbw.net/wiki/Discography\")[0:4]"
   ]
  },
  {
   "cell_type": "markdown",
   "id": "980eaca4-ec94-46fd-b078-b8ce39d26b8d",
   "metadata": {},
   "source": [
    "Note that above we put the domain back on the url: web pages typically use \"relative\" urls to link within themselves but we need the whole thing.\n",
    "\n",
    "Track Lists\n",
    "-----------\n",
    "\n",
    "Now that we have our album we need a scraper to scrape the track list out of each album. The easiest thing to do here is to find all the urls that have the string \"http://tmbw.net/wiki/Lyrics:\" in it."
   ]
  },
  {
   "cell_type": "code",
   "execution_count": 79,
   "id": "b10767aa-ece6-44fe-b556-38de59fb605e",
   "metadata": {},
   "outputs": [
    {
     "name": "stdout",
     "output_type": "stream",
     "text": [
      "Cache hit: http://tmbw.net/wiki/Apollo_18\n"
     ]
    },
    {
     "name": "stderr",
     "output_type": "stream",
     "text": [
      "/usr/local/lib/python3.8/dist-packages/bs4/element.py:1970: UserWarning: has_key is deprecated. Use has_attr(\"href\") instead.\n",
      "  warnings.warn('has_key is deprecated. Use has_attr(\"%s\") instead.' % (\n"
     ]
    },
    {
     "data": {
      "text/plain": [
       "['http://tmbw.net/wiki/Lyrics:Dig_My_Grave',\n",
       " 'http://tmbw.net/wiki/Lyrics:I_Palindrome_I',\n",
       " 'http://tmbw.net/wiki/Lyrics:She%27s_Actual_Size',\n",
       " 'http://tmbw.net/wiki/Lyrics:My_Evil_Twin',\n",
       " 'http://tmbw.net/wiki/Lyrics:Mammal',\n",
       " 'http://tmbw.net/wiki/Lyrics:The_Statue_Got_Me_High',\n",
       " 'http://tmbw.net/wiki/Lyrics:Spider',\n",
       " 'http://tmbw.net/wiki/Lyrics:The_Guitar',\n",
       " 'http://tmbw.net/wiki/Lyrics:Dinner_Bell',\n",
       " 'http://tmbw.net/wiki/Lyrics:Narrow_Your_Eyes',\n",
       " 'http://tmbw.net/wiki/Lyrics:Hall_Of_Heads',\n",
       " 'http://tmbw.net/wiki/Lyrics:Which_Describes_How_You%27re_Feeling',\n",
       " 'http://tmbw.net/wiki/Lyrics:See_The_Constellation',\n",
       " 'http://tmbw.net/wiki/Lyrics:If_I_Wasn%27t_Shy',\n",
       " 'http://tmbw.net/wiki/Lyrics:Turn_Around',\n",
       " 'http://tmbw.net/wiki/Lyrics:Hypnotist_Of_Ladies',\n",
       " 'http://tmbw.net/wiki/Lyrics:Everything_Is_Catching_On_Fire',\n",
       " 'http://tmbw.net/wiki/Lyrics:Fingertips_(Banjo)',\n",
       " 'http://tmbw.net/wiki/Lyrics:I_Hear_The_Wind_Blow',\n",
       " 'http://tmbw.net/wiki/Lyrics:Hey_Now_Everybody',\n",
       " 'http://tmbw.net/wiki/Lyrics:Who%27s_That_Standing_Out_The_Window%3F',\n",
       " 'http://tmbw.net/wiki/Lyrics:I_Found_A_New_Friend_Underneath_My_Pillow',\n",
       " 'http://tmbw.net/wiki/Lyrics:Come_On_And_Wreck_My_Car',\n",
       " 'http://tmbw.net/wiki/Lyrics:Aren%27t_You_The_Guy_Who_Hit_Me_In_The_Eye%3F',\n",
       " 'http://tmbw.net/wiki/Lyrics:Please_Pass_The_Milk',\n",
       " 'http://tmbw.net/wiki/Lyrics:Leave_Me_Alone',\n",
       " 'http://tmbw.net/wiki/Lyrics:Who%27s_Knocking_On_The_Wall%3F',\n",
       " 'http://tmbw.net/wiki/Lyrics:All_Alone,_All_By_Myself',\n",
       " 'http://tmbw.net/wiki/Lyrics:What%27s_That_Blue_Thing_Doing_Here%3F',\n",
       " 'http://tmbw.net/wiki/Lyrics:Something_Grabbed_Ahold_Of_My_Hand',\n",
       " 'http://tmbw.net/wiki/Lyrics:I_Don%27t_Understand_You',\n",
       " 'http://tmbw.net/wiki/Lyrics:I_Heard_A_Sound',\n",
       " 'http://tmbw.net/wiki/Lyrics:Mysterious_Whisper',\n",
       " 'http://tmbw.net/wiki/Lyrics:The_Day_That_Love_Came_To_Play',\n",
       " 'http://tmbw.net/wiki/Lyrics:I%27m_Having_A_Heart_Attack',\n",
       " 'http://tmbw.net/wiki/Lyrics:Fingertips_(Whispered)',\n",
       " 'http://tmbw.net/wiki/Lyrics:I_Walk_Along_Darkened_Corridors',\n",
       " 'http://tmbw.net/wiki/Lyrics:Space_Suit']"
      ]
     },
     "execution_count": 79,
     "metadata": {},
     "output_type": "execute_result"
    }
   ],
   "source": [
    "def scrape_lyrics_pages(url):\n",
    "    doc = get_document(url);\n",
    "    out = [];\n",
    "    for link in doc.find_all(\"a\"):\n",
    "        if link.has_key(\"href\") and \"wiki/Lyrics:\" in link['href']:\n",
    "            out.append(\"http://tmbw.net\"+link['href']);\n",
    "    return out;\n",
    "\n",
    "scrape_lyrics_pages(\"http://tmbw.net/wiki/Apollo_18\")\n",
    "                       "
   ]
  },
  {
   "cell_type": "markdown",
   "id": "4ace622b-0157-4298-a928-2a07c65270d6",
   "metadata": {},
   "source": [
    "Putting it All Together\n",
    "=======================\n",
    "\n",
    "We've not got:\n",
    "\n",
    "1. Code to Scrape all the Album URLS\n",
    "2. Code to Scrape the Tracklist from Each Album\n",
    "3. Code to Scrape Lyric data from the Tracks\n",
    "\n",
    "So we just need to write a program that puts it all together. Its worth thinking a little about how to put our data together. One possibility is just a dataframe with columns:\n",
    "\n",
    "1. year\n",
    "2. album\n",
    "3. song title\n",
    "4. lyrics\n",
    "\n",
    "We could also encode the results as objects and just dump them as JSON. JSON can be more appropriate for this kind of data and we're already pretty familiar with dataframes, so let's do that. A JSON object is a collection of nested objects consisting of arrays, dictionaries and strings and numbers (the latter two unable to hold any sub objects, obviously). So our output format will be a list of objects with year, album and song title and then a lyrics sub-array with the lyrics as lines.\n",
    "\n",
    "Enter Make\n",
    "==========\n",
    "\n",
    "With a task this simple we could write a function like this:"
   ]
  },
  {
   "cell_type": "code",
   "execution_count": 83,
   "id": "e2accf68-21ad-4e7c-b06a-a7740b3eba49",
   "metadata": {},
   "outputs": [],
   "source": [
    "def scrape_tmbg_lyrics(discog_url):\n",
    "    albums = get_album_list(discog_url);\n",
    "    output = [];\n",
    "    for album in albums:\n",
    "        url = album['url'];\n",
    "        tracks = scrape_lyrics_pages(url);\n",
    "        for track in tracks:\n",
    "            data = get_song_data(track);\n",
    "            data['album'] = album['title'];\n",
    "            output.append(data);\n",
    "    return output;"
   ]
  },
  {
   "cell_type": "code",
   "execution_count": 84,
   "id": "7e65b457-666f-4707-bc75-5d1ffff16331",
   "metadata": {},
   "outputs": [
    {
     "name": "stdout",
     "output_type": "stream",
     "text": [
      "Cache hit: http://tmbw.net/wiki/Discography\n",
      "Cache miss: http://tmbw.net/wiki/Wiggle_Diskette\n"
     ]
    },
    {
     "name": "stderr",
     "output_type": "stream",
     "text": [
      "/usr/local/lib/python3.8/dist-packages/bs4/element.py:1970: UserWarning: has_key is deprecated. Use has_attr(\"href\") instead.\n",
      "  warnings.warn('has_key is deprecated. Use has_attr(\"%s\") instead.' % (\n"
     ]
    },
    {
     "name": "stdout",
     "output_type": "stream",
     "text": [
      "Cache miss: http://tmbw.net/wiki/Lyrics:Everything_Right_Is_Wrong\n",
      "Cache miss: http://tmbw.net/wiki/Lyrics:You%27ll_Miss_Me_(Demo_1)\n",
      "Cache miss: http://tmbw.net/wiki/1985_Demo_Tape\n",
      "Cache miss: http://tmbw.net/wiki/Lyrics:Put_Your_Hand_Inside_The_Puppet_Head_(Demo_3)\n",
      "Cache miss: http://tmbw.net/wiki/Lyrics:When_It_Rains_It_Snows_(Demo)\n",
      "Cache miss: http://tmbw.net/wiki/Lyrics:Number_Three_(1985_Demo)\n",
      "Cache miss: http://tmbw.net/wiki/Lyrics:Don%27t_Let%27s_Start_(1985_Demo)\n",
      "Cache miss: http://tmbw.net/wiki/Lyrics:You%27ll_Miss_Me_(Demo_2)\n",
      "Cache miss: http://tmbw.net/wiki/Lyrics:I_Hope_That_I_Get_Old_Before_I_Die_(Demo)\n",
      "Cache miss: http://tmbw.net/wiki/Lyrics:The_Biggest_One_(1985_Demo)\n",
      "Cache miss: http://tmbw.net/wiki/Lyrics:32_Footsteps\n",
      "Cache miss: http://tmbw.net/wiki/Lyrics:Boat_Of_Car_(1985_Demo)\n",
      "Cache miss: http://tmbw.net/wiki/Lyrics:Cowtown_(1985_Demo_2)\n",
      "Cache miss: http://tmbw.net/wiki/Lyrics:Chess_Piece_Face_(1985_Demo)\n",
      "Cache miss: http://tmbw.net/wiki/Lyrics:Rabid_Child\n",
      "Cache miss: http://tmbw.net/wiki/Lyrics:Youth_Culture_Killed_My_Dog_(1985_Demo)\n",
      "Cache miss: http://tmbw.net/wiki/Lyrics:Alienation%27s_For_The_Rich\n",
      "Cache miss: http://tmbw.net/wiki/Lyrics:The_Day_(Demo)\n",
      "Cache miss: http://tmbw.net/wiki/Lyrics:(She_Was_A)_Hotel_Detective_(1985_Demo)\n",
      "Cache miss: http://tmbw.net/wiki/Lyrics:Which_Describes_How_You%27re_Feeling_(Demo)\n",
      "Cache miss: http://tmbw.net/wiki/Lyrics:Toddler_Hiway\n",
      "Cache miss: http://tmbw.net/wiki/Lyrics:Become_A_Robot\n",
      "Cache miss: http://tmbw.net/wiki/Lyrics:I%27m_Def\n",
      "Cache miss: http://tmbw.net/wiki/Lyrics:Hell_Hotel\n",
      "Cache miss: http://tmbw.net/wiki/Lyrics:They_Might_Be_Giants_(Song)_(1985_Demo)\n",
      "Cache miss: http://tmbw.net/wiki/Lyrics:Nothing%27s_Going_To_Change_My_Clothes\n",
      "Cache miss: http://tmbw.net/wiki/They_Might_Be_Giants_-_Joshua_Fried_Split_Single\n",
      "Cache hit: http://tmbw.net/wiki/Lyrics:Put_Your_Hand_Inside_The_Puppet_Head_(Demo_3)\n",
      "Cache hit: http://tmbw.net/wiki/Lyrics:Number_Three_(1985_Demo)\n",
      "Cache hit: http://tmbw.net/wiki/Lyrics:The_Day_(Demo)\n",
      "Cache miss: http://tmbw.net/wiki/They_Might_Be_Giants_(Album)\n",
      "Cache miss: http://tmbw.net/wiki/Lyrics:Everything_Right_Is_Wrong_Again\n",
      "Cache miss: http://tmbw.net/wiki/Lyrics:Put_Your_Hand_Inside_The_Puppet_Head\n",
      "Cache miss: http://tmbw.net/wiki/Lyrics:Number_Three\n",
      "Cache miss: http://tmbw.net/wiki/Lyrics:Don%27t_Let%27s_Start\n",
      "Cache miss: http://tmbw.net/wiki/Lyrics:Hide_Away_Folk_Family\n",
      "Cache hit: http://tmbw.net/wiki/Lyrics:32_Footsteps\n",
      "Cache hit: http://tmbw.net/wiki/Lyrics:Toddler_Hiway\n",
      "Cache hit: http://tmbw.net/wiki/Lyrics:Rabid_Child\n",
      "Cache miss: http://tmbw.net/wiki/Lyrics:Nothing%27s_Gonna_Change_My_Clothes\n",
      "Cache miss: http://tmbw.net/wiki/Lyrics:(She_Was_A)_Hotel_Detective\n",
      "Cache miss: http://tmbw.net/wiki/Lyrics:She%27s_An_Angel\n",
      "Cache miss: http://tmbw.net/wiki/Lyrics:Youth_Culture_Killed_My_Dog\n",
      "Cache miss: http://tmbw.net/wiki/Lyrics:Boat_Of_Car\n",
      "Cache miss: http://tmbw.net/wiki/Lyrics:Absolutely_Bill%27s_Mood\n",
      "Cache miss: http://tmbw.net/wiki/Lyrics:Chess_Piece_Face\n",
      "Cache miss: http://tmbw.net/wiki/Lyrics:I_Hope_That_I_Get_Old_Before_I_Die\n",
      "Cache hit: http://tmbw.net/wiki/Lyrics:Alienation%27s_For_The_Rich\n",
      "Cache miss: http://tmbw.net/wiki/Lyrics:The_Day\n",
      "Cache miss: http://tmbw.net/wiki/Lyrics:Rhythm_Section_Want_Ad\n",
      "Cache miss: http://tmbw.net/wiki/Lyrics:Don%27t_Let%27s_Start_(Single_Mix)\n",
      "Cache miss: http://tmbw.net/wiki/Lyrics:We%27re_The_Replacements\n",
      "Cache miss: http://tmbw.net/wiki/Lyrics:When_It_Rains_It_Snows\n",
      "Cache miss: http://tmbw.net/wiki/Lyrics:The_Famous_Polka\n",
      "Cache miss: http://tmbw.net/wiki/Lyrics:(She_Was_A)_Hotel_Detective_(Single_Mix)\n",
      "Cache miss: http://tmbw.net/wiki/Lyrics:For_Science\n",
      "Cache miss: http://tmbw.net/wiki/Lyrics:The_Biggest_One\n",
      "Cache miss: http://tmbw.net/wiki/Lyrics:Kiss_Me,_Son_Of_God_(Alternate_Version)\n",
      "Cache miss: http://tmbw.net/wiki/Lyrics:Mr._Klaw\n",
      "Cache miss: http://tmbw.net/wiki/Lyrics:Critic_Intro\n",
      "Cache miss: http://tmbw.net/wiki/Lyrics:Now_That_I_Have_Everything\n",
      "Cache miss: http://tmbw.net/wiki/Lyrics:Mainstream_U.S.A.\n",
      "Cache miss: http://tmbw.net/wiki/Lyrics:Fake_Out_In_Buenos_Aires\n",
      "Cache miss: http://tmbw.net/wiki/Lyrics:Greek_Number_Three\n"
     ]
    },
    {
     "ename": "AttributeError",
     "evalue": "'NoneType' object has no attribute 'text'",
     "output_type": "error",
     "traceback": [
      "\u001b[0;31m---------------------------------------------------------------------------\u001b[0m",
      "\u001b[0;31mAttributeError\u001b[0m                            Traceback (most recent call last)",
      "\u001b[0;32m/tmp/ipykernel_46/669600022.py\u001b[0m in \u001b[0;36m<module>\u001b[0;34m\u001b[0m\n\u001b[0;32m----> 1\u001b[0;31m \u001b[0mscrape_tmbg_lyrics\u001b[0m\u001b[0;34m(\u001b[0m\u001b[0;34m\"http://tmbw.net/wiki/Discography\"\u001b[0m\u001b[0;34m)\u001b[0m\u001b[0;34m\u001b[0m\u001b[0;34m\u001b[0m\u001b[0m\n\u001b[0m",
      "\u001b[0;32m/tmp/ipykernel_46/2505707492.py\u001b[0m in \u001b[0;36mscrape_tmbg_lyrics\u001b[0;34m(discog_url)\u001b[0m\n\u001b[1;32m      6\u001b[0m         \u001b[0mtracks\u001b[0m \u001b[0;34m=\u001b[0m \u001b[0mscrape_lyrics_pages\u001b[0m\u001b[0;34m(\u001b[0m\u001b[0murl\u001b[0m\u001b[0;34m)\u001b[0m\u001b[0;34m;\u001b[0m\u001b[0;34m\u001b[0m\u001b[0;34m\u001b[0m\u001b[0m\n\u001b[1;32m      7\u001b[0m         \u001b[0;32mfor\u001b[0m \u001b[0mtrack\u001b[0m \u001b[0;32min\u001b[0m \u001b[0mtracks\u001b[0m\u001b[0;34m:\u001b[0m\u001b[0;34m\u001b[0m\u001b[0;34m\u001b[0m\u001b[0m\n\u001b[0;32m----> 8\u001b[0;31m             \u001b[0mdata\u001b[0m \u001b[0;34m=\u001b[0m \u001b[0mget_song_data\u001b[0m\u001b[0;34m(\u001b[0m\u001b[0mtrack\u001b[0m\u001b[0;34m)\u001b[0m\u001b[0;34m;\u001b[0m\u001b[0;34m\u001b[0m\u001b[0;34m\u001b[0m\u001b[0m\n\u001b[0m\u001b[1;32m      9\u001b[0m             \u001b[0mdata\u001b[0m\u001b[0;34m[\u001b[0m\u001b[0;34m'album'\u001b[0m\u001b[0;34m]\u001b[0m \u001b[0;34m=\u001b[0m \u001b[0malbum\u001b[0m\u001b[0;34m[\u001b[0m\u001b[0;34m'title'\u001b[0m\u001b[0;34m]\u001b[0m\u001b[0;34m;\u001b[0m\u001b[0;34m\u001b[0m\u001b[0;34m\u001b[0m\u001b[0m\n\u001b[1;32m     10\u001b[0m             \u001b[0moutput\u001b[0m\u001b[0;34m.\u001b[0m\u001b[0mappend\u001b[0m\u001b[0;34m(\u001b[0m\u001b[0mdata\u001b[0m\u001b[0;34m)\u001b[0m\u001b[0;34m;\u001b[0m\u001b[0;34m\u001b[0m\u001b[0;34m\u001b[0m\u001b[0m\n",
      "\u001b[0;32m/tmp/ipykernel_46/2767622724.py\u001b[0m in \u001b[0;36mget_song_data\u001b[0;34m(url)\u001b[0m\n\u001b[1;32m      2\u001b[0m     \u001b[0mtbl\u001b[0m \u001b[0;34m=\u001b[0m \u001b[0mget_song_table\u001b[0m\u001b[0;34m(\u001b[0m\u001b[0murl\u001b[0m\u001b[0;34m)\u001b[0m\u001b[0;34m;\u001b[0m\u001b[0;34m\u001b[0m\u001b[0;34m\u001b[0m\u001b[0m\n\u001b[1;32m      3\u001b[0m     \u001b[0mout\u001b[0m \u001b[0;34m=\u001b[0m \u001b[0;34m{\u001b[0m\u001b[0;34m}\u001b[0m\u001b[0;34m;\u001b[0m\u001b[0;34m\u001b[0m\u001b[0;34m\u001b[0m\u001b[0m\n\u001b[0;32m----> 4\u001b[0;31m     \u001b[0mlyrics\u001b[0m \u001b[0;34m=\u001b[0m \u001b[0mtbl\u001b[0m\u001b[0;34m.\u001b[0m\u001b[0mfind\u001b[0m\u001b[0;34m(\u001b[0m\u001b[0;34m\"div\"\u001b[0m\u001b[0;34m,\u001b[0m\u001b[0mclass_\u001b[0m\u001b[0;34m=\u001b[0m\u001b[0;34m\"lyrics-table\"\u001b[0m\u001b[0;34m)\u001b[0m\u001b[0;34m.\u001b[0m\u001b[0mtext\u001b[0m\u001b[0;34m.\u001b[0m\u001b[0mstrip\u001b[0m\u001b[0;34m(\u001b[0m\u001b[0;34m)\u001b[0m\u001b[0;34m.\u001b[0m\u001b[0msplit\u001b[0m\u001b[0;34m(\u001b[0m\u001b[0;34m\"\\n\"\u001b[0m\u001b[0;34m)\u001b[0m\u001b[0;34m;\u001b[0m\u001b[0;34m\u001b[0m\u001b[0;34m\u001b[0m\u001b[0m\n\u001b[0m\u001b[1;32m      5\u001b[0m     \u001b[0mtds\u001b[0m \u001b[0;34m=\u001b[0m \u001b[0mtbl\u001b[0m\u001b[0;34m.\u001b[0m\u001b[0mfind_all\u001b[0m\u001b[0;34m(\u001b[0m\u001b[0;34m\"td\"\u001b[0m\u001b[0;34m,\u001b[0m \u001b[0mattrs\u001b[0m\u001b[0;34m=\u001b[0m\u001b[0;34m{\u001b[0m\u001b[0;34m\"style\"\u001b[0m\u001b[0;34m:\u001b[0m\u001b[0;34m\"text-align:right;\"\u001b[0m\u001b[0;34m}\u001b[0m\u001b[0;34m)\u001b[0m\u001b[0;34m\u001b[0m\u001b[0;34m\u001b[0m\u001b[0m\n\u001b[1;32m      6\u001b[0m     \u001b[0mout\u001b[0m\u001b[0;34m[\u001b[0m\u001b[0;34m\"title\"\u001b[0m\u001b[0;34m]\u001b[0m \u001b[0;34m=\u001b[0m \u001b[0mtds\u001b[0m\u001b[0;34m[\u001b[0m\u001b[0;36m0\u001b[0m\u001b[0;34m]\u001b[0m\u001b[0;34m.\u001b[0m\u001b[0mtext\u001b[0m\u001b[0;34m.\u001b[0m\u001b[0mstrip\u001b[0m\u001b[0;34m(\u001b[0m\u001b[0;34m)\u001b[0m\u001b[0;34m;\u001b[0m\u001b[0;34m\u001b[0m\u001b[0;34m\u001b[0m\u001b[0m\n",
      "\u001b[0;31mAttributeError\u001b[0m: 'NoneType' object has no attribute 'text'"
     ]
    }
   ],
   "source": [
    "scrape_tmbg_lyrics(\"http://tmbw.net/wiki/Discography\")"
   ]
  },
  {
   "cell_type": "raw",
   "id": "a0c2b252-7f71-48dc-bd73-267d6ba7a843",
   "metadata": {},
   "source": [
    " Hey, check it out! An error! It looks like we're having trouble with \"Greek Number Three\" which I happen to know is in Greek, rather than english. It probably doesn't have a Lyrics section. There are probably other songs without lyrics. Let's use exception handling to ignore and report on these sorts of things."
   ]
  },
  {
   "cell_type": "code",
   "execution_count": 85,
   "id": "089a1c32-b97f-4b7e-8c9e-0bfa0de701f2",
   "metadata": {},
   "outputs": [],
   "source": [
    "def scrape_tmbg_lyrics(discog_url):\n",
    "    albums = get_album_list(discog_url);\n",
    "    output = [];\n",
    "    for album in albums:\n",
    "        url = album['url'];\n",
    "        tracks = scrape_lyrics_pages(url);\n",
    "        for track in tracks:\n",
    "            try:\n",
    "                data = get_song_data(track);\n",
    "                data['album'] = album['title'];\n",
    "                output.append(data);\n",
    "            except Exception as e:\n",
    "                print(\"Ran into an error on {} ({})\".format( track, e))\n",
    "    return output;"
   ]
  },
  {
   "cell_type": "code",
   "execution_count": 90,
   "id": "67a4b5f4-f545-4e74-92b5-e1a358c94d48",
   "metadata": {},
   "outputs": [
    {
     "name": "stdout",
     "output_type": "stream",
     "text": [
      "Ran into an error on {} ({}) http://tmbw.net/wiki/Lyrics:Greek_Number_Three 'NoneType' object has no attribute 'text'\n",
      "Ran into an error on {} ({}) http://tmbw.net/wiki/Lyrics:Greek_Number_Three 'NoneType' object has no attribute 'text'\n",
      "Ran into an error on {} ({}) http://tmbw.net/wiki/Lyrics:Greek_Number_Three 'NoneType' object has no attribute 'text'\n",
      "Ran into an error on {} ({}) http://tmbw.net/wiki/Lyrics:Spoiler_Alert 'NoneType' object has no attribute 'text'\n",
      "Ran into an error on {} ({}) http://tmbw.net/wiki/Lyrics:Spoiler_Alert 'NoneType' object has no attribute 'text'\n",
      "Ran into an error on {} ({}) http://tmbw.net/wiki/Lyrics:Spoiler_Alert 'NoneType' object has no attribute 'text'\n",
      "Ran into an error on {} ({}) http://tmbw.net/wiki/Lyrics:Hello_Mrs._Wheelyke 'NoneType' object has no attribute 'text'\n",
      "Ran into an error on {} ({}) http://tmbw.net/wiki/Lyrics:TECVM_CIRCVMAMBVLARE_NOLO 'NoneType' object has no attribute 'text'\n",
      "Ran into an error on {} ({}) http://tmbw.net/wiki/Lyrics:NVNC_AVT_NVMQVAM 'NoneType' object has no attribute 'text'\n",
      "Ran into an error on {} ({}) http://tmbw.net/wiki/Lyrics:HAEC_QVOQVE_EST_RES 'NoneType' object has no attribute 'text'\n",
      "Ran into an error on {} ({}) http://tmbw.net/wiki/Lyrics:CATENAS_MEAS_AMISI 'NoneType' object has no attribute 'text'\n"
     ]
    },
    {
     "data": {
      "text/plain": [
       "[{'title': 'Everything Right Is Wrong',\n",
       "  'by': ' They Might Be Giants',\n",
       "  'year': ' 1985',\n",
       "  'lyrics': ['Everything right is wrong again',\n",
       "   'Just like in The Long, Long Trailer',\n",
       "   'All the dishes got broken and the car kept driving',\n",
       "   'And nobody would stop to save her',\n",
       "   \"Wake me when it's over, touch my face\",\n",
       "   'Tell me every word has been erased',\n",
       "   \"Don't you want to know the reason\",\n",
       "   \"Why the cupboard's not appealing\",\n",
       "   \"Don't you get the feeling that\",\n",
       "   \"Everything that's right is wrong again\",\n",
       "   \"You're a weasel overcome with dinge\",\n",
       "   'Weasel overcome but not before the damage done',\n",
       "   \"The healing doesn't stop the feeling\",\n",
       "   'Everything right is wrong again',\n",
       "   'Just like in the long long trailer',\n",
       "   'All the dishes got broken and the car kept driving',\n",
       "   'And nobody would stop to save her',\n",
       "   'And now the song is over now',\n",
       "   'And now the song is over now',\n",
       "   'And now the song is over now',\n",
       "   'The song is over now',\n",
       "   'Everything right is wrong again',\n",
       "   'Every movement false, every four is waltz again',\n",
       "   \"Every five and dime's been gained and spent\",\n",
       "   'Tell me that you like my float upstream',\n",
       "   'Draw the line dividing laugh and scream',\n",
       "   'You know everything that I know so I know',\n",
       "   \"You've heard the voice that makes the silent noise\",\n",
       "   'That says that',\n",
       "   \"Everything that's right is wrong again\",\n",
       "   \"You're a weasel overcome with dinge\",\n",
       "   'Weasel overcome but not before the damage done',\n",
       "   \"The healing doesn't stop the feeling\",\n",
       "   'Everything right is wrong again',\n",
       "   'Just like in the long long trailer',\n",
       "   'All the dishes got broken and the car kept driving',\n",
       "   'And nobody would stop to save her'],\n",
       "  'album': 'Wiggle Diskette'},\n",
       " {'title': \"You'll Miss Me (Demo 1)\",\n",
       "  'by': ' They Might Be Giants',\n",
       "  'year': ' 1985',\n",
       "  'lyrics': [\"You'll always miss my big ol' body\",\n",
       "   'In its prime and never shoddy',\n",
       "   'As bloodhounds wait down in the lobby',\n",
       "   \"You'll eulogize my big ol' body\",\n",
       "   \"You'll miss me with effigies\",\n",
       "   'Lighting up your house like X-mas trees',\n",
       "   'As tears roll down, below your knees',\n",
       "   \"You'll miss me with effigies\",\n",
       "   'Go find a man to fit my shoes',\n",
       "   \"Left one's old and the right one's new\",\n",
       "   'And I bought the right one, just for you',\n",
       "   'Go find a man to fit my shoes',\n",
       "   'You kill me with the way you talk',\n",
       "   'Morticians wait with a shovel and a fork',\n",
       "   \"But I'll remain sitting on this fence\",\n",
       "   'My mind a blur of common sense',\n",
       "   \"You'll see my teeth in the stars above\",\n",
       "   'Every tree a finger of my glove',\n",
       "   'And every time push comes to shove',\n",
       "   \"You'll see my teeth in the stars above\",\n",
       "   'Your money talks but my genius walks',\n",
       "   \"No one to blame, it's not my fault\",\n",
       "   'As detectives trace my hands with chalk',\n",
       "   'Your money talks, my genius walks',\n",
       "   \"You'll miss me so\",\n",
       "   'You will miss me so',\n",
       "   \"You'll miss me so\",\n",
       "   \"You'll miss me\",\n",
       "   \"It must be raining 'cause a man ain't supposed to cry\",\n",
       "   \"I look up and I don't see a cloud\",\n",
       "   \"It must be raining 'cause a man ain't supposed to cry\",\n",
       "   \"But I look up and I don't see a cloud\"],\n",
       "  'album': 'Wiggle Diskette'},\n",
       " {'title': 'Put Your Hand Inside The Puppet Head (Demo 3)',\n",
       "  'by': ' They Might Be Giants',\n",
       "  'year': ' 1985',\n",
       "  'lyrics': ['As your body floats down third street',\n",
       "   'With the burn-smell factory closing up',\n",
       "   'Is it sad to say you will romanticize',\n",
       "   \"All the things you've know before?\",\n",
       "   'It was not not not so great',\n",
       "   'It was not not not so great',\n",
       "   'And as you take a bath in that beaten path',\n",
       "   \"There's a pounding at the door\",\n",
       "   \"Well it's a mighty zombie \",\n",
       "   'Talking of some love of posterity',\n",
       "   \"That said the good ol' days never say goodbye\",\n",
       "   'If you keep this in your mind',\n",
       "   \"You need some lo-lo-lovin' arms\",\n",
       "   \"You need some lo-lo-lovin' arms\",\n",
       "   'And as you fall from grace the only words you say are',\n",
       "   'Put your hand inside the puppet head',\n",
       "   'Put your hand inside the puppet head',\n",
       "   'Put your hand inside, put your hand inside',\n",
       "   'Put your hand inside the puppet head',\n",
       "   'Ads up in the subway are the work of',\n",
       "   'Someone trying to please their boss',\n",
       "   \"You know the guy's a pig\",\n",
       "   'We all know what he wants ',\n",
       "   'Is just to please somebody else',\n",
       "   'If the pu-pu-puppet head',\n",
       "   'Was only bu-bu-busted in',\n",
       "   \"It'd be a better thing\",\n",
       "   'For everyone involved',\n",
       "   \"And we wouldn't have to cry\",\n",
       "   'Put your hand inside the puppet head',\n",
       "   'Put your hand inside the puppet head',\n",
       "   'Put your hand inside, put your hand inside',\n",
       "   'Put your hand inside the puppet head',\n",
       "   'Things!',\n",
       "   'Gotta do!',\n",
       "   'Head!',\n",
       "   'Puppet head!',\n",
       "   '(No! Gotta do!) Memo to myself',\n",
       "   '(Head! Puppet head!) Do the dumb things I gotta do',\n",
       "   '(Things! Gotta do! Hey! Puppet head!) Touch the puppet head',\n",
       "   'Quit my job down at the subway',\n",
       "   \"Didn't have to write no one a goodbye note\",\n",
       "   \"That said the check's in the mail\",\n",
       "   \"And I'll see you at church\",\n",
       "   \"And don't you ever change\",\n",
       "   'If the pu-pu-puppet head',\n",
       "   'Was only bu-bu-busted in',\n",
       "   \"I'll see you after school\",\n",
       "   'Put your hand inside the puppet head',\n",
       "   'Put your hand inside the puppet head',\n",
       "   'Put your hand inside, put your hand inside',\n",
       "   'Put your hand inside the puppet head',\n",
       "   'Put your hand inside the puppet head',\n",
       "   'Put your hand inside the puppet head',\n",
       "   'Put your hand inside, put your hand inside',\n",
       "   'Put your hand inside the puppet head'],\n",
       "  'album': '1985 Demo Tape'},\n",
       " {'title': 'When It Rains It Snows (Demo)',\n",
       "  'by': ' They Might Be Giants',\n",
       "  'year': ' 1985',\n",
       "  'lyrics': ['Shh',\n",
       "   \"There's a knock on the door that I adore\",\n",
       "   \"There's a face at the window, a smiling yellow face\",\n",
       "   \"There's a knock on the door\",\n",
       "   \"And if I were at home, they'd find me there\",\n",
       "   \"There's a note on the door that I would see\",\n",
       "   \"And the furniture's barely been moved from where it was\",\n",
       "   \"There's a note on the door\",\n",
       "   'And the note will say when it rains, it snows',\n",
       "   'When it rains, it snows',\n",
       "   'I wonder why',\n",
       "   'And now I know',\n",
       "   'That when it rains, it snows',\n",
       "   \"There's a nut with a shotgun, bang bang bang\",\n",
       "   \"There's a waitress, a doctor, a fireman with a hat\",\n",
       "   \"There's a nut with a gun\",\n",
       "   \"There's enough that they'll never know which one\",\n",
       "   'When it rains, it snows',\n",
       "   'I wonder why',\n",
       "   'And now I know',\n",
       "   'That when it rains, it snows'],\n",
       "  'album': '1985 Demo Tape'},\n",
       " {'title': 'Number Three (1985 Demo)',\n",
       "  'by': ' They Might Be Giants',\n",
       "  'year': ' 1985',\n",
       "  'lyrics': [\"There's only two songs in me and I just wrote the third\",\n",
       "   \"Don't know where I got the inspiration or how I wrote the words\",\n",
       "   \"Spent my whole life just digging up my music's shallow grave\",\n",
       "   'For the two songs in me and the third one I just made',\n",
       "   'A rich man once told me',\n",
       "   '\"Hey, life\\'s a funny thing\"',\n",
       "   'A poor man once told me',\n",
       "   \"That he can't afford to speak\",\n",
       "   \"Now I'm in the middle like a bird without a beak 'cause\",\n",
       "   \"There's just two songs in me and I just wrote the third\",\n",
       "   \"Don't know where I got the inspiration or how I wrote the words\",\n",
       "   \"Spent my whole life just digging up my music's shallow grave\",\n",
       "   'For the two songs in me and the third one I just made',\n",
       "   'So I went to the President',\n",
       "   \"And I asked old what's-his-name\",\n",
       "   \"Has he ever gotten writer's block\",\n",
       "   'Or something like the same',\n",
       "   'He just started talking',\n",
       "   'Like he was on TV',\n",
       "   '\"If there\\'s just two songs in ya, boy',\n",
       "   'Whaddaya want from me?\"',\n",
       "   'So I bought myself some denim pants',\n",
       "   'And a silver guitar',\n",
       "   'But I politely told the ladies',\n",
       "   '\"You\\'ll still have to call me Sir',\n",
       "   'Because I have to keep my self-respect',\n",
       "   \"I'll never be a star\",\n",
       "   \"Since there's just two songs in me\",\n",
       "   'And this is Number Three\"'],\n",
       "  'album': '1985 Demo Tape'},\n",
       " {'title': \"Don't Let's Start (1985 Demo)\",\n",
       "  'by': ' They Might Be Giants',\n",
       "  'year': ' 1985',\n",
       "  'lyrics': [\"Don't, don't, don't let's start\",\n",
       "   'This is the worst part',\n",
       "   'I could believe for all the world',\n",
       "   'That you were my precious little girl',\n",
       "   \"But don't, don't, don't let's start\",\n",
       "   \"I've got a weak heart\",\n",
       "   \"And I don't get around how you get around\",\n",
       "   \"Don't, Don't!\",\n",
       "   \"I don't want to live in this world anymore\",\n",
       "   \"I don't want to live in this world anymore\",\n",
       "   \"Don't, don't, don't let's start\",\n",
       "   'This is the worst part',\n",
       "   'I could believe for all the world',\n",
       "   'That you were my precious little girl',\n",
       "   \"But don't, don't, don't let's start\",\n",
       "   \"I've got a weak heart\",\n",
       "   \"And I don't get around how you get around\"],\n",
       "  'album': '1985 Demo Tape'},\n",
       " {'title': \"You'll Miss Me (Demo 2)\",\n",
       "  'by': ' They Might Be Giants',\n",
       "  'year': ' 1985',\n",
       "  'lyrics': [\"You'll always miss\",\n",
       "   \"My big ol' body\",\n",
       "   'In its prime and never shoddy',\n",
       "   'While bloodhounds wait',\n",
       "   'Down in the lobby',\n",
       "   \"You'll eulogize my big ol' body\",\n",
       "   \"You'll miss me\",\n",
       "   'With effigies',\n",
       "   'Lighting up your house like X-mas trees',\n",
       "   'As tears roll down, below your knees',\n",
       "   \"You'll miss me\",\n",
       "   'With effigies',\n",
       "   'Go find a man to fit my shoes',\n",
       "   \"Left one's old and the right one's new\",\n",
       "   'And I bought the right one, just for you',\n",
       "   'Go find a man to fit my shoes',\n",
       "   'You kill me with the way you talk',\n",
       "   'Morticians wait with a shovel and a fork',\n",
       "   \"But I'll remain sittin' on this fence\",\n",
       "   'My mind a blur of common sense',\n",
       "   \"You'll see my teeth in the stars above\",\n",
       "   'Every tree a finger of my glove',\n",
       "   'And every time push comes to shove',\n",
       "   \"You'll see my teeth in the stars above\",\n",
       "   'Your money talks but my genius walks',\n",
       "   \"No one to blame, it's not my fault\",\n",
       "   'As detectives trace my hands with chalk',\n",
       "   'Your money talks but my genius walks',\n",
       "   \"You'll miss me so\",\n",
       "   \"You'll miss me\",\n",
       "   \"You'll miss me but I'm already dead\",\n",
       "   \"It must be raining 'cause a man ain't supposed to cry\",\n",
       "   \"But I look up and I don't see a cloud\",\n",
       "   \"It must be raining 'cause a man ain't supposed to cry\",\n",
       "   \"But I look up and I don't see a cloud\",\n",
       "   'Anywhere'],\n",
       "  'album': '1985 Demo Tape'},\n",
       " {'title': 'I Hope That I Get Old Before I Die (Demo)',\n",
       "  'by': ' They Might Be Giants',\n",
       "  'year': ' 1985',\n",
       "  'lyrics': ['Sometimes I feel like being wispy',\n",
       "   'And once in a while I feel like being dry',\n",
       "   \"But we're doomed and we're drowned\",\n",
       "   'By this feeling we surround',\n",
       "   'So I hope that I get old before I die',\n",
       "   'Ohhhhh',\n",
       "   \"It's a long, long rope they use to hang you soon I hope\",\n",
       "   \"And I wonder why this hasn't happened\",\n",
       "   'Why, why, why',\n",
       "   \"And I think about the dirt that I'll be wearing for a shirt\",\n",
       "   'And I hope that I get old before I die',\n",
       "   'Clear off the kitchen table darling',\n",
       "   'For on the kitchen table I must lie',\n",
       "   \"I'm just tired for my wife\",\n",
       "   'Served the banquet of my life',\n",
       "   'And I hope that I get old before I die',\n",
       "   'Ohhhhh',\n",
       "   \"It's a long, long rope they use to hang you soon I hope\",\n",
       "   \"And I wonder why this hasn't happened\",\n",
       "   'Why, why, why',\n",
       "   \"And I think about the dirt that I'll be wearing for a shirt\"],\n",
       "  'album': '1985 Demo Tape'},\n",
       " {'title': 'The Biggest One (1985 Demo)',\n",
       "  'by': ' They Might Be Giants',\n",
       "  'year': ' 1985',\n",
       "  'lyrics': ['The water running down that pipe',\n",
       "   'Looks like a snake to me',\n",
       "   'By \"Doc\\'s Sugar Bowl\" my coffee gets cold',\n",
       "   \"'Cause I don't want to see\",\n",
       "   'That I got no one to blame but my fat self',\n",
       "   'I got no one to blame but my fat self',\n",
       "   \"I'm the biggest one\",\n",
       "   \"I'm the biggest one\",\n",
       "   'I got no one to blame but my fat self',\n",
       "   'Should have changed that stupid lock',\n",
       "   'Should have thrown away the key',\n",
       "   'No, no, not I, I will survive',\n",
       "   'Right down here on my knees',\n",
       "   \"'Cause I got no one to blame but my fat self\",\n",
       "   'I got no one to blame but my fat self',\n",
       "   \"I'm the biggest one\",\n",
       "   \"I'm the biggest one\",\n",
       "   'I got no one to blame but my fat self'],\n",
       "  'album': '1985 Demo Tape'},\n",
       " {'title': '32 Footsteps',\n",
       "  'by': ' They Might Be Giants',\n",
       "  'year': ' 1985',\n",
       "  'lyrics': [\"32 footsteps leading to the room where the paint doesn't want to dry\",\n",
       "   '32 footsteps running down the road where the dirt reaches the sky',\n",
       "   '32 feathers in my brand new Indian headdress',\n",
       "   '32 new moons shining in 32 skies',\n",
       "   \"What's the reason? Why'd she go?\",\n",
       "   \"Where's my baby? I don't know\",\n",
       "   '32 footsteps, counted them myself, 32 footsteps',\n",
       "   'Bing bang bingalong cing cang cingalong',\n",
       "   'Ding dang dingalong day',\n",
       "   'Fing fang fingalong ging gang gingalong',\n",
       "   'Hing hang hingalong hay',\n",
       "   'Jing jang jingalong king kang kingalong',\n",
       "   'Ling lang lingalong lay',\n",
       "   'Ming mang mingalong ning nang ningalong',\n",
       "   'Ping pang pingalong pay',\n",
       "   \"What's the reason? Why'd she go?\",\n",
       "   \"Where's my baby? I don't know\",\n",
       "   '32 footsteps, counted them myself, 32 footsteps',\n",
       "   '32 lies my ears never saw when the floorboards gave way',\n",
       "   '32 walls come tumbling down and the night turns to day',\n",
       "   '32 infantrymen running in place',\n",
       "   '32 boxcars, all of them have your face',\n",
       "   \"What's the reason? Why'd she leave?\",\n",
       "   \"Don't you know we're on the eve of\",\n",
       "   '32 footsteps? Counted them myself, 32 footsteps',\n",
       "   '(no) 28',\n",
       "   '(no) 29',\n",
       "   '30 (no)',\n",
       "   '31'],\n",
       "  'album': '1985 Demo Tape'}]"
      ]
     },
     "execution_count": 90,
     "metadata": {},
     "output_type": "execute_result"
    }
   ],
   "source": [
    "verbose = False\n",
    "scrape_tmbg_lyrics(\"http://tmbw.net/wiki/Discography\")[0:10]"
   ]
  },
  {
   "cell_type": "markdown",
   "id": "77cc72c6-07b3-4c76-9b73-49583c1149d3",
   "metadata": {},
   "source": [
    "Using Make to Make\n",
    "==================\n",
    "\n",
    "Its a useful exercise to convert this to a build-system orchestrated set of tasks. What we want to do is isolate each step. These are:\n",
    "\n",
    "1. grab the album list\n",
    "2. grab the song list (from the album list)\n",
    "3. grab the song data (from the song list)\n",
    "\n",
    "See the makefiles.\n",
    "\n",
    "Scraping Async Data\n",
    "===================\n",
    "\n",
    "Lots of web pages load their data _after_ the page loads. Consider almost any of the pages on this great website:\n",
    "\n",
    "https://bl.ocks.org/armollica/3b5f83836c1de5cca7b1d35409a013e3\n",
    "\n",
    "If we load this into our Python session:\n"
   ]
  },
  {
   "cell_type": "code",
   "execution_count": 92,
   "id": "0fdfb075-78b3-45a2-91bb-94c3c52c5d71",
   "metadata": {},
   "outputs": [
    {
     "data": {
      "text/plain": [
       "'<!DOCTYPE html>\\n<meta charset=\"utf-8\">\\n<meta name=\"viewport\" content=\"width=1000\">\\n<meta name=\"twitter:card\" content=\"summary\">\\n<meta name=\"twitter:site\" content=\"@mbostock\">\\n<meta property=\"og:url\" content=\"https://bl.ocks.org/armollica/3b5f83836c1de5cca7b1d35409a013e3\">\\n<meta property=\"og:title\" content=\"Joyplot\">\\n<meta property=\"og:description\" content=\"Andrew Mollica’s Block 3b5f83836c1de5cca7b1d35409a013e3\">\\n<meta property=\"og:image\" content=\"https://bl.ocks.org/armollica/raw/3b5f83836c1de5cca7b1d35409a013e3/783d1bbc2dd3aabbfcba83ece4a670de6f1ec371/thumbnail.png\">\\n<title>Joyplot - bl.ocks.org</title>\\n<link rel=\"icon\" href=\"/favicon.png\">\\n<link rel=\"canonical\" href=\"https://bl.ocks.org/armollica/3b5f83836c1de5cca7b1d35409a013e3\">\\n<style>\\n\\n@import url(\"/style.css\");\\n\\n</style>\\n\\n  <a class=\"announce\" href=\"https://observablehq.com/?utm_source=blocks\">\\n    <div class=\"column\">\\n      Join <b>Observable</b> to explore and create live, interactive data visualizations.\\n    </div>\\n  </a>\\n\\n<header>\\n  <div class=\"column\">\\n    <div class=\"navigation\">\\n      <a href=\"/\">Popular</a>\\n      / <a href=\"/-/about\">About</a>\\n    </div>\\n    <a class=\"user\" href=\"/armollica\"><img class=\"avatar\" src=\"https://avatars.githubusercontent.com/u/5270903?v=4&amp;s=60\" width=\"30\" height=\"30\">Andrew Mollica</a>’s\\n    Block <a class=\"gist gist-id self\" title=\"View Gist on GitHub.\" href=\"https://gist.github.com/armollica/3b5f83836c1de5cca7b1d35409a013e3\">3b5f83836c1de5cca7b1d35409a013e3</a>    <div class=\"date\">Updated July 15, 2017</div>\\n  </div>\\n</header>\\n\\n<div class=\"column\">\\n  <h1>Joyplot</h1>\\n  <div class=\"index\">\\n    <iframe sandbox=\"allow-popups allow-scripts allow-forms allow-same-origin\" src=\"/armollica/raw/3b5f83836c1de5cca7b1d35409a013e3/783d1bbc2dd3aabbfcba83ece4a670de6f1ec371/\" marginwidth=\"0\" marginheight=\"0\" style=\"height:600px;\" scrolling=\"no\"></iframe>\\n  </div>\\n  <div class=\"index-pop\">\\n    <a target=\"_blank\" title=\"Open Block 3b5f83836c1de5cca7b1d35409a013e3 a new window.\" href=\"/armollica/raw/3b5f83836c1de5cca7b1d35409a013e3?raw=true\">Open<svg height=\"16\" width=\"12\"><path d=\"M11 10h1v3c0 0.55-0.45 1-1 1H1c-0.55 0-1-0.45-1-1V3c0-0.55 0.45-1 1-1h3v1H1v10h10V10zM6 2l2.25 2.25-3.25 3.25 1.5 1.5 3.25-3.25 2.25 2.25V2H6z\"></path></svg></a>\\n  </div>\\n  <div class=\"gist-readme\" data-key=\"README.md\"></div>\\n  <div class=\"gist-sources\">\\n    <div class=\"gist-source\" data-key=\"index.html\">\\n      <h2>index.html<a name=\"index.html\" class=\"anchor\" href=\"#index.html\">#</a></h2>\\n      <pre><code>…</code></pre>\\n    </div>\\n    <div class=\"gist-source\" data-key=\"Makefile\">\\n      <h2>Makefile<a name=\"Makefile\" class=\"anchor\" href=\"#Makefile\">#</a></h2>\\n      <pre><code>…</code></pre>\\n    </div>\\n    <div class=\"gist-source\" data-key=\"process-activity.R\">\\n      <h2>process-activity.R<a name=\"process-activity.R\" class=\"anchor\" href=\"#process-activity.R\">#</a></h2>\\n      <pre><code>…</code></pre>\\n    </div>\\n  </div>\\n  <div class=\"gist-license\">\\n    <h2>LICENSE<a name=\"license\" class=\"anchor\" href=\"#license\">#</a></h2>\\n    This block appears to have <a target=\\'_blank\\' href=\"https://choosealicense.com/no-license/\">no license</a>. Please contact <a target=\\'_blank\\' href=\\'https://github.com/armollica\\'>the author</a> to request a license.\\n  </div>\\n</div>\\n\\n<script src=\"https://d3js.org/d3.v6.min.js\"></script>\\n<script src=\"https://cdnjs.cloudflare.com/ajax/libs/showdown/1.8.1/showdown.min.js\" integrity=\"sha384-Mcx6WhltjdlkIwTWetAJIBNgD0lLtUcl//A7Ksp/vmVZVD2rzQ949wtmoehrDJd/\" crossorigin=\"anonymous\"></script>\\n<script src=\"https://cdnjs.cloudflare.com/ajax/libs/highlight.js/9.12.0/highlight.min.js\" integrity=\"sha256-/BfiIkHlHoVihZdc6TFuj7MmJ0TWcWsMXkeDFwhi0zw=\" crossorigin=\"anonymous\"></script>\\n<script>\\n\\nhljs.configure({classPrefix: \"\"});\\nshowdown.setFlavor(\"github\");\\n\\nvar gist = {\"public\":true,\"protocol\":\"https\",\"sha\":\"783d1bbc2dd3aabbfcba83ece4a670de6f1ec371\",\"files\":{\".DS_Store\":{\"language\":null,\"type\":\"text/plain\",\"filename\":\".DS_Store\",\"size\":6148,\"sha\":\"5008ddfcf53c02e82d7eee2e57c38e5672ef89f6\"},\".block\":{\"language\":null,\"type\":\"text/plain\",\"filename\":\".block\",\"size\":11,\"sha\":\"f0242bd775c30e031dbca58cdfda10df1804e0a4\"},\"Makefile\":{\"language\":\"Makefile\",\"type\":\"text/plain\",\"filename\":\"Makefile\",\"size\":58,\"sha\":\"704659ab0a09a86ad37ded98f3189d556aeaa03f\"},\"README.md\":{\"language\":\"Markdown\",\"type\":\"text/markdown\",\"filename\":\"README.md\",\"size\":694,\"sha\":\"874216bfb9218bd24d5eb4cec84ed5be485b670d\"},\"activity.tsv\":{\"language\":\"TSV\",\"type\":\"text/tab-separated-values\",\"filename\":\"activity.tsv\",\"size\":446977,\"sha\":\"e5827551c286c6471efddb91cdf3b56185b58d03\"},\"data.tsv\":{\"language\":\"TSV\",\"type\":\"text/tab-separated-values\",\"filename\":\"data.tsv\",\"size\":632530,\"sha\":\"e9b77a7df4bd478f823b12ae063ac71f89a97a86\"},\"index.html\":{\"language\":null,\"type\":\"text/html\",\"filename\":\"index.html\",\"size\":3764,\"sha\":\"a9c331df7d794a96a1540bda558a054a70a52345\"},\"process-activity.R\":{\"language\":null,\"type\":\"text/plain\",\"filename\":\"process-activity.R\",\"size\":1104,\"sha\":\"c4f0d5f234d370193ae998d4e3347dac62920e8b\"},\"thumbnail.png\":{\"language\":null,\"type\":\"image/png\",\"filename\":\"thumbnail.png\",\"size\":42141,\"sha\":\"089e1ce4a4a9301b752e6bd90c8f821db38f59ff\"}},\"created_at\":\"2017-07-09T19:20:50Z\",\"updated_at\":\"2017-07-15T18:43:49Z\",\"description\":\"Joyplot\",\"owner\":{\"login\":\"armollica\"},\"id\":\"3b5f83836c1de5cca7b1d35409a013e3\"};\\n\\nvar files = Object.entries(gist.files).map(([, value]) => value);\\n\\nd3.select(\".gist-readme\")\\n  .data(files, function(d) { return d ? d.filename : this.getAttribute(\"data-key\"); })\\n    .each(async function(d) {\\n      var readme = d3.select(this);\\n      let content;\\n      try {\\n        content = await d3.text(\"/armollica/raw/3b5f83836c1de5cca7b1d35409a013e3/783d1bbc2dd3aabbfcba83ece4a670de6f1ec371/\" + d.filename);\\n      } catch (error) {\\n        content = \"Sorry, an error occurred.\";\\n      }\\n      readme.html(new showdown.Converter().makeHtml(content));\\n      readme.selectAll(\"code\").each(function() { hljs.highlightBlock(this); });\\n    });\\n\\nd3.selectAll(\".gist-source\")\\n  .data(files, function(d) { return d ? d.filename : this.getAttribute(\"data-key\"); })\\n  .select(\"code\")\\n    .attr(\"class\", function(d) { return d.language && (d.language === \"JSON\" ? \"javascript\" : d.language.toLowerCase()); })\\n    .each(async function(d) {\\n      var code = d3.select(this);\\n      let content;\\n      try {\\n        content = await d3.text(\"/armollica/raw/3b5f83836c1de5cca7b1d35409a013e3/783d1bbc2dd3aabbfcba83ece4a670de6f1ec371/\" + (d.filename === \"index.html\" ? \"\" : d.filename));\\n      } catch (error) {\\n        content = \"Sorry, an error occurred.\";\\n      }\\n      code.text(content);\\n      hljs.highlightBlock(code.node());\\n    });\\n\\n</script>\\n\\n<script>\\n\\nGoogleAnalyticsObject = \"ga\", ga = function() { ga.q.push(arguments); }, ga.q = [], ga.l = +new Date;\\nga(\"create\", \"UA-48272912-1\", \"auto\");\\nga(\"send\", \"pageview\");\\n\\n</script>\\n<script async src=\"https://www.google-analytics.com/analytics.js\"></script>\\n'"
      ]
     },
     "execution_count": 92,
     "metadata": {},
     "output_type": "execute_result"
    }
   ],
   "source": [
    "page = get(\"https://bl.ocks.org/armollica/3b5f83836c1de5cca7b1d35409a013e3\")\n",
    "page"
   ]
  },
  {
   "cell_type": "markdown",
   "id": "214d6588-03a1-4136-b090-b0e7bbf26918",
   "metadata": {},
   "source": [
    "Take my word for it: the data which makes these pretty plots isn't here. Thats because some Javascript (d3's \"tsv\" function) loads the data _after_ the page loads. When we get a page with our `get` function we just get the empty JSON. It doesn't execute any Javascript code or even have a document object. Unfortunately, even if we parse our page with beautifulsoup we just parse the HTML. No Javascript is executed.\n",
    "\n",
    "Are we out of luck?\n",
    "\n",
    "Visit the Network Tab\n",
    "=====================\n",
    "\n",
    "Nope! If we open our inspector, we can visit the network tab, click refresh, and see all the data the page loads. Typically we can then find the URL from which the data is loaded.\n",
    "\n",
    "Sure enough:\n",
    "\n",
    "https://bl.ocks.org/armollica/raw/3b5f83836c1de5cca7b1d35409a013e3/783d1bbc2dd3aabbfcba83ece4a670de6f1ec371/data.tsv\n",
    "\n",
    "If we now invoke this:\n"
   ]
  },
  {
   "cell_type": "code",
   "execution_count": 96,
   "id": "1c27be02-25dd-4732-9689-4dceb61afd8e",
   "metadata": {},
   "outputs": [
    {
     "data": {
      "text/plain": [
       "'activity\\ttime\\tp\\tp_peak\\tp_smooth\\nRunning\\t1440.0\\t6.45223543281662e-5\\t0.04402262110550772\\t0.04402262110'"
      ]
     },
     "execution_count": 96,
     "metadata": {},
     "output_type": "execute_result"
    }
   ],
   "source": [
    "content = get(\"https://bl.ocks.org/armollica/raw/3b5f83836c1de5cca7b1d35409a013e3/783d1bbc2dd3aabbfcba83ece4a670de6f1ec371/data.tsv\")\n",
    "content[0:100]"
   ]
  },
  {
   "cell_type": "markdown",
   "id": "269bd72b-03bd-4507-824f-7599057132bd",
   "metadata": {},
   "source": [
    "We can now convert this to a data frame, if we want:"
   ]
  },
  {
   "cell_type": "code",
   "execution_count": 99,
   "id": "728b6090-1d17-4bf4-a713-52edb6f6e8d9",
   "metadata": {},
   "outputs": [
    {
     "data": {
      "text/html": [
       "<div>\n",
       "<style scoped>\n",
       "    .dataframe tbody tr th:only-of-type {\n",
       "        vertical-align: middle;\n",
       "    }\n",
       "\n",
       "    .dataframe tbody tr th {\n",
       "        vertical-align: top;\n",
       "    }\n",
       "\n",
       "    .dataframe thead th {\n",
       "        text-align: right;\n",
       "    }\n",
       "</style>\n",
       "<table border=\"1\" class=\"dataframe\">\n",
       "  <thead>\n",
       "    <tr style=\"text-align: right;\">\n",
       "      <th></th>\n",
       "      <th>activity</th>\n",
       "      <th>time</th>\n",
       "      <th>p</th>\n",
       "      <th>p_peak</th>\n",
       "      <th>p_smooth</th>\n",
       "    </tr>\n",
       "  </thead>\n",
       "  <tbody>\n",
       "    <tr>\n",
       "      <th>0</th>\n",
       "      <td>Running</td>\n",
       "      <td>1440.0</td>\n",
       "      <td>0.000065</td>\n",
       "      <td>0.044023</td>\n",
       "      <td>0.044023</td>\n",
       "    </tr>\n",
       "    <tr>\n",
       "      <th>1</th>\n",
       "      <td>Playing racquet sports</td>\n",
       "      <td>1440.0</td>\n",
       "      <td>0.000000</td>\n",
       "      <td>0.000000</td>\n",
       "      <td>0.000000</td>\n",
       "    </tr>\n",
       "    <tr>\n",
       "      <th>2</th>\n",
       "      <td>Weightlifting/strength training</td>\n",
       "      <td>1440.0</td>\n",
       "      <td>0.000080</td>\n",
       "      <td>0.050097</td>\n",
       "      <td>0.050097</td>\n",
       "    </tr>\n",
       "    <tr>\n",
       "      <th>3</th>\n",
       "      <td>Hiking</td>\n",
       "      <td>1440.0</td>\n",
       "      <td>0.000000</td>\n",
       "      <td>0.000000</td>\n",
       "      <td>0.000000</td>\n",
       "    </tr>\n",
       "    <tr>\n",
       "      <th>4</th>\n",
       "      <td>Biking</td>\n",
       "      <td>1440.0</td>\n",
       "      <td>0.000007</td>\n",
       "      <td>0.008702</td>\n",
       "      <td>0.008702</td>\n",
       "    </tr>\n",
       "    <tr>\n",
       "      <th>...</th>\n",
       "      <td>...</td>\n",
       "      <td>...</td>\n",
       "      <td>...</td>\n",
       "      <td>...</td>\n",
       "      <td>...</td>\n",
       "    </tr>\n",
       "    <tr>\n",
       "      <th>8087</th>\n",
       "      <td>Rollerblading</td>\n",
       "      <td>1440.0</td>\n",
       "      <td>0.000026</td>\n",
       "      <td>0.080469</td>\n",
       "      <td>0.080469</td>\n",
       "    </tr>\n",
       "    <tr>\n",
       "      <th>8088</th>\n",
       "      <td>Golfing</td>\n",
       "      <td>1440.0</td>\n",
       "      <td>0.000018</td>\n",
       "      <td>0.007607</td>\n",
       "      <td>0.007607</td>\n",
       "    </tr>\n",
       "    <tr>\n",
       "      <th>8089</th>\n",
       "      <td>Playing volleyball</td>\n",
       "      <td>1440.0</td>\n",
       "      <td>0.000000</td>\n",
       "      <td>0.000000</td>\n",
       "      <td>0.000000</td>\n",
       "    </tr>\n",
       "    <tr>\n",
       "      <th>8090</th>\n",
       "      <td>Boating</td>\n",
       "      <td>1440.0</td>\n",
       "      <td>0.000022</td>\n",
       "      <td>0.033145</td>\n",
       "      <td>0.033145</td>\n",
       "    </tr>\n",
       "    <tr>\n",
       "      <th>8091</th>\n",
       "      <td>Playing baseball</td>\n",
       "      <td>1440.0</td>\n",
       "      <td>0.000000</td>\n",
       "      <td>0.000000</td>\n",
       "      <td>0.000000</td>\n",
       "    </tr>\n",
       "  </tbody>\n",
       "</table>\n",
       "<p>8092 rows × 5 columns</p>\n",
       "</div>"
      ],
      "text/plain": [
       "                             activity    time         p    p_peak  p_smooth\n",
       "0                             Running  1440.0  0.000065  0.044023  0.044023\n",
       "1              Playing racquet sports  1440.0  0.000000  0.000000  0.000000\n",
       "2     Weightlifting/strength training  1440.0  0.000080  0.050097  0.050097\n",
       "3                              Hiking  1440.0  0.000000  0.000000  0.000000\n",
       "4                              Biking  1440.0  0.000007  0.008702  0.008702\n",
       "...                               ...     ...       ...       ...       ...\n",
       "8087                    Rollerblading  1440.0  0.000026  0.080469  0.080469\n",
       "8088                          Golfing  1440.0  0.000018  0.007607  0.007607\n",
       "8089               Playing volleyball  1440.0  0.000000  0.000000  0.000000\n",
       "8090                          Boating  1440.0  0.000022  0.033145  0.033145\n",
       "8091                 Playing baseball  1440.0  0.000000  0.000000  0.000000\n",
       "\n",
       "[8092 rows x 5 columns]"
      ]
     },
     "execution_count": 99,
     "metadata": {},
     "output_type": "execute_result"
    }
   ],
   "source": [
    "import pandas as pd\n",
    "import io\n",
    "\n",
    "pd.read_csv(io.StringIO(content), sep=\"\\t\")"
   ]
  },
  {
   "cell_type": "markdown",
   "id": "a7f3b598-098d-4c7e-8aff-62fe5a804d36",
   "metadata": {},
   "source": [
    "The idea here is: if you can't find the data you want in the HTML, load your browser, look in the Network Tab and and see if you can find things like:\n",
    "\n",
    "1. JSON\n",
    "2. CSV/TSV/TXT\n",
    "3. HTML/XML\n",
    "\n",
    "Copy the url and scrape or load that data directly.\n",
    "\n",
    "Recap\n",
    "=====\n",
    "\n",
    "Web Scraping is simple and fun. The basic idea is almost always the same:\n",
    "\n",
    "1. Find a page that has the data you want.\n",
    "2. If there are many such pages, find a page which lists them all or otherwise find a way to navigate through them by finding \"a\" tags (links)\n",
    "3. If you can't find the data in the HTML, try looking at the network activity tab to see if its load after the page is loaded\n",
    "4. Make sure to cache your requests so that you don't look like a DOS attack and don't issue a million requests a minute or you might get your IP blocked. Its also just rude.\n",
    "5. If you're pages are behind a login you can usually get around this by copying the header information from a browser after you've logged in, but scraping such pages may be illegal in the US.\n",
    "6. Its very useful to break down complicated scraping tasks into smaller bits and put them together with a makefile.\n",
    "\n"
   ]
  },
  {
   "cell_type": "code",
   "execution_count": null,
   "id": "66a27bc9-07bc-433f-b80c-85c732adf486",
   "metadata": {},
   "outputs": [],
   "source": []
  }
 ],
 "metadata": {
  "kernelspec": {
   "display_name": "Python 3 (ipykernel)",
   "language": "python",
   "name": "python3"
  },
  "language_info": {
   "codemirror_mode": {
    "name": "ipython",
    "version": 3
   },
   "file_extension": ".py",
   "mimetype": "text/x-python",
   "name": "python",
   "nbconvert_exporter": "python",
   "pygments_lexer": "ipython3",
   "version": "3.8.10"
  }
 },
 "nbformat": 4,
 "nbformat_minor": 5
}

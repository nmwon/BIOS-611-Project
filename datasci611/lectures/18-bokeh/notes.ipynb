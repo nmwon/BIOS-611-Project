{
 "cells": [
  {
   "cell_type": "markdown",
   "metadata": {},
   "source": [
    "More Advanced Python\n",
    "====================\n",
    "\n",
    "A refresher\n",
    "-----------\n",
    "\n",
    "Python is a programming language similar, in may respects, to R. Differences:\n",
    "\n",
    "1. Whitespace sensitive syntax - roughly speaking, blocks denoted with {} in R are instead indicated via indentation\n",
    "2. No environment tom-foolery. Python's environments work very similarly to R's but cannot be accessed directly\n",
    "3. Pervasive, single-dispatch, class based object orientation: `some_object.a_method(a1,a2)` is a method invocation rougly equivalent to the R code: `a_method(some_object, a1, a2)`. Classes are defined `class`.\n",
    "4. More in your face modularization: each file is a module and implicitly its own environment.\n",
    "5. external package management either via pip or systems like anaconda\n",
    "6. Not designed as a data science or scientific programming language. Thus, numeric and string types are not \"vectorized.\" We need an external package for that.\n",
    "\n",
    "Some examples:"
   ]
  },
  {
   "cell_type": "code",
   "execution_count": 1,
   "metadata": {},
   "outputs": [
    {
     "name": "stdout",
     "output_type": "stream",
     "text": [
      "Always True\n",
      "0\n",
      "10\n",
      "20\n",
      "30\n",
      "40\n",
      "50\n",
      "60\n",
      "70\n",
      "80\n",
      "90\n",
      "0\n",
      "1\n",
      "4\n",
      "9\n",
      "16\n",
      "25\n",
      "36\n",
      "49\n",
      "64\n",
      "81\n",
      "[0, 1, 8, 27, 64, 125, 216, 343, 512, 729]\n",
      "earth\n"
     ]
    }
   ],
   "source": [
    "## function definition\n",
    "## Note the explicit return statement.\n",
    "\n",
    "def plus(a,b):\n",
    "    return a + b;\n",
    "\n",
    "## if statements:\n",
    "\n",
    "if 10 > 11:\n",
    "    print(\"Never True\")\n",
    "else:\n",
    "    print(\"Always True\")\n",
    "    \n",
    "## loops\n",
    "\n",
    "for i in range(10):\n",
    "    print(i*10)\n",
    "    \n",
    "i = 0\n",
    "while i < 10:\n",
    "    print(i*i)\n",
    "    i = i + 1;\n",
    "\n",
    "## list comprehensions\n",
    "\n",
    "print([i*i*i for i in range(10)])\n",
    "\n",
    "## anonymous functions/lambda\n",
    "\n",
    "lambda x : x-3\n",
    "\n",
    "## class definition - no simple equivalent in R\n",
    "\n",
    "class World:\n",
    "    ## a class property\n",
    "    name = '';\n",
    "    ## An init method, called when the class creates an instance\n",
    "    def __init__(self, name):\n",
    "        self.name = name;\n",
    "        \n",
    "    ## a method which returns an instance's name\n",
    "    def get_name(self):\n",
    "        return self.name;\n",
    "        \n",
    "## Creating an instance of the object\n",
    "\n",
    "w = World(\"earth\")\n",
    "\n",
    "print(w.get_name());"
   ]
  },
  {
   "cell_type": "markdown",
   "metadata": {},
   "source": [
    "The Tools of the Data Scientist\n",
    "===============================\n",
    "\n",
    "Python is a much broader ecosystem than R and this is both good and bad. Often we are spoiled for choice with Python where in R there is more or less \"one way to do it.\" This is ironic, since Python originally presented itself as an alternative to the older, weirder, language \"Perl\" whose motto was \"There is more than one way to do it.\" Perl is pretty much dead at this point.\n",
    "\n",
    "Anyway, the tools:\n",
    "\n",
    "1. numpy array language support\n",
    "2. pandas - data frame support\n",
    "3. plotting - [multifarious](https://opensource.com/article/20/4/plot-data-python). matplotlib, plotnine (like ggplot), plotly, bokeh, altair, pygal.\n",
    "4. sklearn - a large library of standardized statistical and machine learning methods\n",
    "5. neural networks - tensorflow, pytorch, theano, keras, etc \n",
    "\n",
    "Much of what you've learned in R is applicable here, however. I still recommend distinct Python scripts for different steps in your analysis. Orchestrated via Makefiles and disk-persisted intermediate objects like CSV files or JSON objects.\n",
    "\n",
    "It is possible to call R from Python and vice-verse but I don't recommend this approach.\n",
    "\n",
    "Numpy\n",
    "=====\n",
    "\n",
    "Q: Why Numpy?\n",
    "-------------\n",
    "\n",
    "Answer: Python is a high level, interpreted, dynamically typed, programming language. This means that before almost any action (like adding two numbers) Python must check that the arguments to `+` are the correct type among many other operations. Because Python is high level and object oriented, `+` might invoke methods any of which might depend on the type of either argument. This applies to almost any \"step\" in a python program. Python is thus many thousands of times slower than what we call \"machine code\" - just straight up numerical instructions to a processor. Python it itself written in a low level, statically typed, compiled programming language called C. C was created to translate human readable code more or less directly to machine code. C forces you to express many of the invariants of your code up front so that the compiler can generate machine code with very few checks. Thus, its much faster.\n",
    "\n",
    "Numpy is a library where all the operations on uniformly typed arrays are implemented in C code. Thus they can be much, much faster and memory efficient than Python code.\n",
    "\n",
    "(PS - Learning C is a good idea!)\n",
    "\n",
    "Dockerfile:\n",
    "-----------\n",
    "```\n",
    "  RUN pip3 install numpy\n",
    "```"
   ]
  },
  {
   "cell_type": "code",
   "execution_count": 2,
   "metadata": {},
   "outputs": [
    {
     "data": {
      "text/plain": [
       "array([0.67014061, 0.19446877, 0.65426081, ..., 0.5794454 , 0.91145511,\n",
       "       0.01479894])"
      ]
     },
     "execution_count": 2,
     "metadata": {},
     "output_type": "execute_result"
    }
   ],
   "source": [
    "import numpy as np\n",
    "\n",
    "## Numpy lets you create multidimensional arrays of various sorts.\n",
    "## These are represented efficiently in memory \n",
    "## Numpy additionally provides functions and methods to operate efficiently on them\n",
    "\n",
    "x = np.random.ranf(10000)\n",
    "x"
   ]
  },
  {
   "cell_type": "code",
   "execution_count": 3,
   "metadata": {},
   "outputs": [
    {
     "data": {
      "text/plain": [
       "(0.5002547835228474, 0.28749639321622444)"
      ]
     },
     "execution_count": 3,
     "metadata": {},
     "output_type": "execute_result"
    }
   ],
   "source": [
    "## We can now perform some operations on this vector\n",
    "## These are quite efficient because they run in compiled code\n",
    "(x.mean(), x.std())"
   ]
  },
  {
   "cell_type": "code",
   "execution_count": 4,
   "metadata": {},
   "outputs": [
    {
     "data": {
      "text/plain": [
       "array([0.83247981, 0.29092394, 1.16320023, ..., 0.863799  , 1.56486663,\n",
       "       0.35292501])"
      ]
     },
     "execution_count": 4,
     "metadata": {},
     "output_type": "execute_result"
    }
   ],
   "source": [
    "## If we introduce another variable of the same size:\n",
    "y = np.random.ranf(10000);\n",
    "## We can peform various binary operations on them:\n",
    "x+y"
   ]
  },
  {
   "cell_type": "code",
   "execution_count": 5,
   "metadata": {},
   "outputs": [],
   "source": [
    "# This works if they are compatible sizes:\n",
    "z = np.random.ranf(100)\n",
    "#x+z"
   ]
  },
  {
   "cell_type": "code",
   "execution_count": 6,
   "metadata": {},
   "outputs": [
    {
     "data": {
      "text/plain": [
       "array([10.67014061, 10.19446877, 10.65426081, ..., 10.5794454 ,\n",
       "       10.91145511, 10.01479894])"
      ]
     },
     "execution_count": 6,
     "metadata": {},
     "output_type": "execute_result"
    }
   ],
   "source": [
    "## But you can always add or multiple or whatever a scalar value:\n",
    "x + 10"
   ]
  },
  {
   "cell_type": "code",
   "execution_count": 7,
   "metadata": {},
   "outputs": [
    {
     "data": {
      "text/plain": [
       "array([0.62109619, 0.19324534, 0.60857287, ..., 0.54755995, 0.79039597,\n",
       "       0.0147984 ])"
      ]
     },
     "execution_count": 7,
     "metadata": {},
     "output_type": "execute_result"
    }
   ],
   "source": [
    "## Some stuff you might imagine are methods are also provided as functions:\n",
    "np.sin(x)"
   ]
  },
  {
   "cell_type": "code",
   "execution_count": 8,
   "metadata": {},
   "outputs": [
    {
     "data": {
      "text/plain": [
       "array([0.40929255, 0.34340852, 0.75589277, ..., 0.53130694, 0.90036487,\n",
       "       0.58507942])"
      ]
     },
     "execution_count": 8,
     "metadata": {},
     "output_type": "execute_result"
    }
   ],
   "source": [
    "## These functions generally return another numpy array where appropriate, so you can chain them:\n",
    "np.sin(x).std() + y"
   ]
  },
  {
   "cell_type": "markdown",
   "metadata": {},
   "source": [
    "Shape and Size\n",
    "==============\n",
    "\n",
    "Numpy arrays can be of any shape and size."
   ]
  },
  {
   "cell_type": "code",
   "execution_count": 9,
   "metadata": {},
   "outputs": [
    {
     "data": {
      "text/plain": [
       "array([[0., 0., 0., 0., 0.],\n",
       "       [0., 0., 0., 0., 0.],\n",
       "       [0., 0., 0., 0., 0.]])"
      ]
     },
     "execution_count": 9,
     "metadata": {},
     "output_type": "execute_result"
    }
   ],
   "source": [
    "x = np.zeros((3,5)) ## we use a tuple to pass dimensions into numpy constructing functions\n",
    "x"
   ]
  },
  {
   "cell_type": "code",
   "execution_count": 10,
   "metadata": {},
   "outputs": [
    {
     "data": {
      "text/plain": [
       "array([[0.21475775, 0.22937227, 0.68983331],\n",
       "       [0.33674284, 0.76813545, 0.43699933],\n",
       "       [0.44768424, 0.44271838, 0.6174892 ],\n",
       "       [0.50615451, 0.94006077, 0.04216892],\n",
       "       [0.77643893, 0.90786618, 0.39460093],\n",
       "       [0.77787269, 0.00597814, 0.16869112],\n",
       "       [0.42943941, 0.15556423, 0.00386848],\n",
       "       [0.22499622, 0.56039828, 0.96748998],\n",
       "       [0.68386584, 0.99698211, 0.52011227],\n",
       "       [0.30061034, 0.59832556, 0.46093834],\n",
       "       [0.26678473, 0.21811761, 0.2791475 ],\n",
       "       [0.84469583, 0.93466283, 0.6673123 ],\n",
       "       [0.02690268, 0.49841556, 0.47815944],\n",
       "       [0.45353204, 0.37926139, 0.06056223],\n",
       "       [0.64084849, 0.35358635, 0.59567341]])"
      ]
     },
     "execution_count": 10,
     "metadata": {},
     "output_type": "execute_result"
    }
   ],
   "source": [
    "y = np.random.ranf((15,3))\n",
    "y"
   ]
  },
  {
   "cell_type": "code",
   "execution_count": 11,
   "metadata": {},
   "outputs": [
    {
     "data": {
      "text/plain": [
       "array([[[0.21475775, 0.22937227, 0.68983331],\n",
       "        [0.33674284, 0.76813545, 0.43699933],\n",
       "        [0.44768424, 0.44271838, 0.6174892 ],\n",
       "        [0.50615451, 0.94006077, 0.04216892],\n",
       "        [0.77643893, 0.90786618, 0.39460093]],\n",
       "\n",
       "       [[0.77787269, 0.00597814, 0.16869112],\n",
       "        [0.42943941, 0.15556423, 0.00386848],\n",
       "        [0.22499622, 0.56039828, 0.96748998],\n",
       "        [0.68386584, 0.99698211, 0.52011227],\n",
       "        [0.30061034, 0.59832556, 0.46093834]],\n",
       "\n",
       "       [[0.26678473, 0.21811761, 0.2791475 ],\n",
       "        [0.84469583, 0.93466283, 0.6673123 ],\n",
       "        [0.02690268, 0.49841556, 0.47815944],\n",
       "        [0.45353204, 0.37926139, 0.06056223],\n",
       "        [0.64084849, 0.35358635, 0.59567341]]])"
      ]
     },
     "execution_count": 11,
     "metadata": {},
     "output_type": "execute_result"
    }
   ],
   "source": [
    "## In a certain sense, all arrays with the same size are equivalent. \n",
    "## We can \"reshape\" arrays to any other shape that shares the same number \n",
    "## of elements without losing information.\n",
    "\n",
    "y.reshape((3,5,3))"
   ]
  },
  {
   "cell_type": "code",
   "execution_count": 12,
   "metadata": {},
   "outputs": [
    {
     "data": {
      "text/plain": [
       "array([[0.21475775, 0.22937227, 0.68983331],\n",
       "       [0.33674284, 0.76813545, 0.43699933],\n",
       "       [0.44768424, 0.44271838, 0.6174892 ],\n",
       "       [0.50615451, 0.94006077, 0.04216892],\n",
       "       [0.77643893, 0.90786618, 0.39460093],\n",
       "       [0.77787269, 0.00597814, 0.16869112],\n",
       "       [0.42943941, 0.15556423, 0.00386848],\n",
       "       [0.22499622, 0.56039828, 0.96748998],\n",
       "       [0.68386584, 0.99698211, 0.52011227],\n",
       "       [0.30061034, 0.59832556, 0.46093834],\n",
       "       [0.26678473, 0.21811761, 0.2791475 ],\n",
       "       [0.84469583, 0.93466283, 0.6673123 ],\n",
       "       [0.02690268, 0.49841556, 0.47815944],\n",
       "       [0.45353204, 0.37926139, 0.06056223],\n",
       "       [0.64084849, 0.35358635, 0.59567341]])"
      ]
     },
     "execution_count": 12,
     "metadata": {},
     "output_type": "execute_result"
    }
   ],
   "source": [
    "## Has y been changed?\n",
    "y"
   ]
  },
  {
   "cell_type": "code",
   "execution_count": 13,
   "metadata": {},
   "outputs": [
    {
     "data": {
      "text/plain": [
       "(15, 3)"
      ]
     },
     "execution_count": 13,
     "metadata": {},
     "output_type": "execute_result"
    }
   ],
   "source": [
    "## We can inspect shapes by looking at the shape property\n",
    "y.shape"
   ]
  },
  {
   "cell_type": "code",
   "execution_count": 14,
   "metadata": {},
   "outputs": [
    {
     "data": {
      "text/plain": [
       "((10,), (1, 10), (10, 1))"
      ]
     },
     "execution_count": 14,
     "metadata": {},
     "output_type": "execute_result"
    }
   ],
   "source": [
    "## Note that there are different ways of representing the same 1d arrays:\n",
    "r = np.random.ranf;\n",
    "(r(10).shape, r((1,10)).shape, r((10,1)).shape)"
   ]
  },
  {
   "cell_type": "code",
   "execution_count": 15,
   "metadata": {},
   "outputs": [
    {
     "data": {
      "text/plain": [
       "array([0.44582564, 0.8698411 , 0.74369677, 0.67844806, 0.02292211,\n",
       "       0.01180819, 0.00784305, 0.43630217, 0.69587969, 0.60390724,\n",
       "       0.68779015, 0.12746836, 0.05849452, 0.92074236, 0.37787906,\n",
       "       0.08211393, 0.4506502 , 0.46036949, 0.05133419, 0.40175999,\n",
       "       0.94859184, 0.61118349, 0.74401835, 0.55204926, 0.73549965,\n",
       "       0.72778291, 0.69720063, 0.56212119, 0.88026421, 0.25362972,\n",
       "       0.5809838 , 0.13134349, 0.37788641, 0.14682354, 0.86887322,\n",
       "       0.66819895, 0.74041007, 0.28059543, 0.4061042 , 0.7303409 ,\n",
       "       0.65990534, 0.81306787, 0.16806478, 0.90611068, 0.09966174,\n",
       "       0.44707632, 0.46013748, 0.3095189 , 0.36794467, 0.74808861,\n",
       "       0.51357934, 0.97745552, 0.51499844, 0.7273358 , 0.85322002,\n",
       "       0.32339336, 0.47096633, 0.301649  , 0.26495099, 0.49517585,\n",
       "       0.35925602, 0.3360384 , 0.08175198, 0.52027654, 0.74537511,\n",
       "       0.63860947, 0.31447784, 0.38813028, 0.67324139, 0.68439605,\n",
       "       0.73834518, 0.50805865, 0.29484793, 0.7181284 , 0.33361049,\n",
       "       0.05656679, 0.73217236, 0.09851781, 0.91016204, 0.6737158 ,\n",
       "       0.80764473, 0.86831765, 0.00303244, 0.15623138, 0.29636995,\n",
       "       0.36414815, 0.3199996 , 0.08363467, 0.43753285, 0.49058644,\n",
       "       0.31724495, 0.88925072, 0.94873981, 0.86660443, 0.47345347,\n",
       "       0.81241772, 0.26986201, 0.54432514, 0.35754394, 0.84626487,\n",
       "       0.37384697, 0.71321   , 0.07202408, 0.84919683, 0.04853053,\n",
       "       0.34597552, 0.52236119, 0.57302717, 0.91125577, 0.23830216,\n",
       "       0.07863348, 0.60915452, 0.64964699, 0.95660831, 0.35299665,\n",
       "       0.92332604, 0.53263697, 0.28935789, 0.16162849, 0.01288539,\n",
       "       0.81393677, 0.5158254 , 0.88792299, 0.36302684, 0.2500138 ,\n",
       "       0.49537832, 0.12936267, 0.09576549, 0.91591863, 0.37280381,\n",
       "       0.0668826 , 0.26725556, 0.93817671, 0.82131452, 0.63668099,\n",
       "       0.66620751, 0.10070527, 0.08696619, 0.86787952, 0.81524293,\n",
       "       0.01511415, 0.96716244, 0.54924348, 0.90299407, 0.5105083 ,\n",
       "       0.11564009, 0.63265445, 0.32451778, 0.72659176, 0.71063661,\n",
       "       0.89558292, 0.73757057, 0.67412519, 0.65537451, 0.3030598 ,\n",
       "       0.00545099, 0.56365662, 0.08795316, 0.71078478, 0.90466924,\n",
       "       0.29504432, 0.05394434, 0.04593261, 0.88705948, 0.34061757,\n",
       "       0.25156214, 0.41017741, 0.48032335, 0.79999844, 0.05206938,\n",
       "       0.32721288, 0.36850107, 0.95654759, 0.76678861, 0.50103917,\n",
       "       0.76992415, 0.57200643, 0.91248654, 0.57446411, 0.63778299,\n",
       "       0.89872339, 0.31285608, 0.78600949, 0.61674485, 0.6517927 ,\n",
       "       0.78853508, 0.94403016, 0.37312685, 0.14516819, 0.8169664 ,\n",
       "       0.98604263, 0.77977957, 0.34229865, 0.6401578 , 0.82656161,\n",
       "       0.06463695, 0.40056861, 0.92725687, 0.79006498, 0.91661444,\n",
       "       0.26499535, 0.20150541, 0.33543804, 0.37957724, 0.58437841,\n",
       "       0.87538363, 0.1008893 , 0.73276694, 0.03739472, 0.65315156])"
      ]
     },
     "execution_count": 15,
     "metadata": {},
     "output_type": "execute_result"
    }
   ],
   "source": [
    "## You can always return to the \"flat\" version of an array with the following idiom:\n",
    "x = np.random.ranf((7,6,5));\n",
    "y = x.reshape(np.product(x.shape))\n",
    "y"
   ]
  },
  {
   "cell_type": "markdown",
   "metadata": {},
   "source": [
    "Efficiency and Vectorization\n",
    "============================\n",
    "\n",
    "Note that numpy supported operations are much faster than the equivalent hand-written Python. It is worth considering whether a little ingenuity can translate an apparently slow operation into some numpy operations. This is called \"vectorization.\" Back when computers used to be slow this was a necessary skill. These days its still useful. You will see it.\n",
    "\n",
    "\n",
    "An outer product is a classical example. Suppose we have two vectors x and y. We want every combination of sin(x) and cos(y) added together for some reason. The naive approach:"
   ]
  },
  {
   "cell_type": "code",
   "execution_count": 16,
   "metadata": {},
   "outputs": [
    {
     "data": {
      "text/plain": [
       "((6.333443855000041, 3.1909994504530914e-06), 1984783.7498376106)"
      ]
     },
     "execution_count": 16,
     "metadata": {},
     "output_type": "execute_result"
    }
   ],
   "source": [
    "import numpy as np\n",
    "import timeit\n",
    "\n",
    "def naive():\n",
    "    x = np.random.ranf(100);\n",
    "    y = np.random.ranf(300); \n",
    "    z = np.zeros((100,300));\n",
    "    for xi  in range(x.shape[0]):\n",
    "        for yi in range(y.shape[0]):\n",
    "            z[xi,yi] = np.sin(x[xi]) + np.cos(y[yi])\n",
    "    return z\n",
    "            \n",
    "def vectorized():\n",
    "    x = np.random.ranf(100);\n",
    "    y = np.random.ranf(300);\n",
    "    return (np.sin(x.repeat(300).reshape((100,300))) + \n",
    "             np.cos(y.repeat(100).reshape((300,100)).transpose()))\n",
    "\n",
    "times = (timeit.timeit(\"naive()\",globals=globals(), number=100), timeit.timeit(\"vectorized\", globals=globals(), number=100))\n",
    "(times, times[0]/times[1])"
   ]
  },
  {
   "cell_type": "markdown",
   "metadata": {},
   "source": [
    "A lot faster!\n",
    "\n",
    "Why Bother?\n",
    "-----------\n",
    "\n",
    "Anectdotal observations of my own behavior suggest that processes which take more than a second or so to complete give you enough time to get distracted. Its worth squeezing performance out of some analysis if it keeps you in a state of flow.\n",
    "\n",
    "Note that we can do these sorts of tricks in R as well as Python.\n",
    "\n",
    "Anyway\n",
    "------\n",
    "\n",
    "Numpy is a big library with a lot of methods meant to help you write performant code. Read the docs. Experiment! \n",
    "\n",
    "Pandas\n",
    "======\n",
    "\n",
    "I don't want to be a jerk but Pandas sucks. There isn't a better alternative, so we just have to live with it. \n",
    "\n",
    "Pandas provides the equivalent of R's data frames or the tidyverse's tibbles.\n",
    "\n",
    "The data set we'll use is bands with members and birth and death dates. I pulled this from [wikidata](https://w.wiki/gq4)."
   ]
  },
  {
   "cell_type": "code",
   "execution_count": 17,
   "metadata": {},
   "outputs": [
    {
     "data": {
      "text/html": [
       "<div>\n",
       "<style scoped>\n",
       "    .dataframe tbody tr th:only-of-type {\n",
       "        vertical-align: middle;\n",
       "    }\n",
       "\n",
       "    .dataframe tbody tr th {\n",
       "        vertical-align: top;\n",
       "    }\n",
       "\n",
       "    .dataframe thead th {\n",
       "        text-align: right;\n",
       "    }\n",
       "</style>\n",
       "<table border=\"1\" class=\"dataframe\">\n",
       "  <thead>\n",
       "    <tr style=\"text-align: right;\">\n",
       "      <th></th>\n",
       "      <th>band</th>\n",
       "      <th>bandLabel</th>\n",
       "      <th>personLabel</th>\n",
       "      <th>birthDate</th>\n",
       "      <th>deathDate</th>\n",
       "    </tr>\n",
       "  </thead>\n",
       "  <tbody>\n",
       "    <tr>\n",
       "      <th>0</th>\n",
       "      <td>http://www.wikidata.org/entity/Q189965</td>\n",
       "      <td>Whitesnake</td>\n",
       "      <td>Cozy Powell</td>\n",
       "      <td>1947-12-29T00:00:00Z</td>\n",
       "      <td>1998-04-05T00:00:00Z</td>\n",
       "    </tr>\n",
       "    <tr>\n",
       "      <th>1</th>\n",
       "      <td>http://www.wikidata.org/entity/Q189965</td>\n",
       "      <td>Whitesnake</td>\n",
       "      <td>David Coverdale</td>\n",
       "      <td>1951-09-22T00:00:00Z</td>\n",
       "      <td>NaN</td>\n",
       "    </tr>\n",
       "    <tr>\n",
       "      <th>2</th>\n",
       "      <td>http://www.wikidata.org/entity/Q189965</td>\n",
       "      <td>Whitesnake</td>\n",
       "      <td>Tommy Aldridge</td>\n",
       "      <td>1950-08-15T00:00:00Z</td>\n",
       "      <td>NaN</td>\n",
       "    </tr>\n",
       "    <tr>\n",
       "      <th>3</th>\n",
       "      <td>http://www.wikidata.org/entity/Q189965</td>\n",
       "      <td>Whitesnake</td>\n",
       "      <td>Reb Beach</td>\n",
       "      <td>1963-08-31T00:00:00Z</td>\n",
       "      <td>NaN</td>\n",
       "    </tr>\n",
       "    <tr>\n",
       "      <th>4</th>\n",
       "      <td>http://www.wikidata.org/entity/Q189965</td>\n",
       "      <td>Whitesnake</td>\n",
       "      <td>Jon Lord</td>\n",
       "      <td>1941-06-09T00:00:00Z</td>\n",
       "      <td>2012-07-16T00:00:00Z</td>\n",
       "    </tr>\n",
       "    <tr>\n",
       "      <th>...</th>\n",
       "      <td>...</td>\n",
       "      <td>...</td>\n",
       "      <td>...</td>\n",
       "      <td>...</td>\n",
       "      <td>...</td>\n",
       "    </tr>\n",
       "    <tr>\n",
       "      <th>1155</th>\n",
       "      <td>http://www.wikidata.org/entity/Q456080</td>\n",
       "      <td>Sleepy Sleepers</td>\n",
       "      <td>Markus Heikkerö</td>\n",
       "      <td>1952-01-25T00:00:00Z</td>\n",
       "      <td>NaN</td>\n",
       "    </tr>\n",
       "    <tr>\n",
       "      <th>1156</th>\n",
       "      <td>http://www.wikidata.org/entity/Q7376265</td>\n",
       "      <td>Ruby</td>\n",
       "      <td>Randy Oda</td>\n",
       "      <td>1953-01-01T00:00:00Z</td>\n",
       "      <td>NaN</td>\n",
       "    </tr>\n",
       "    <tr>\n",
       "      <th>1157</th>\n",
       "      <td>http://www.wikidata.org/entity/Q456080</td>\n",
       "      <td>Sleepy Sleepers</td>\n",
       "      <td>Tiina Tiikeri</td>\n",
       "      <td>1961-01-01T00:00:00Z</td>\n",
       "      <td>NaN</td>\n",
       "    </tr>\n",
       "    <tr>\n",
       "      <th>1158</th>\n",
       "      <td>http://www.wikidata.org/entity/Q456080</td>\n",
       "      <td>Sleepy Sleepers</td>\n",
       "      <td>Costello Hautamäki</td>\n",
       "      <td>1963-09-11T00:00:00Z</td>\n",
       "      <td>NaN</td>\n",
       "    </tr>\n",
       "    <tr>\n",
       "      <th>1159</th>\n",
       "      <td>http://www.wikidata.org/entity/Q425772</td>\n",
       "      <td>Ministry</td>\n",
       "      <td>Casey Orr</td>\n",
       "      <td>1965-04-22T00:00:00Z</td>\n",
       "      <td>NaN</td>\n",
       "    </tr>\n",
       "  </tbody>\n",
       "</table>\n",
       "<p>1160 rows × 5 columns</p>\n",
       "</div>"
      ],
      "text/plain": [
       "                                         band        bandLabel  \\\n",
       "0      http://www.wikidata.org/entity/Q189965       Whitesnake   \n",
       "1      http://www.wikidata.org/entity/Q189965       Whitesnake   \n",
       "2      http://www.wikidata.org/entity/Q189965       Whitesnake   \n",
       "3      http://www.wikidata.org/entity/Q189965       Whitesnake   \n",
       "4      http://www.wikidata.org/entity/Q189965       Whitesnake   \n",
       "...                                       ...              ...   \n",
       "1155   http://www.wikidata.org/entity/Q456080  Sleepy Sleepers   \n",
       "1156  http://www.wikidata.org/entity/Q7376265             Ruby   \n",
       "1157   http://www.wikidata.org/entity/Q456080  Sleepy Sleepers   \n",
       "1158   http://www.wikidata.org/entity/Q456080  Sleepy Sleepers   \n",
       "1159   http://www.wikidata.org/entity/Q425772         Ministry   \n",
       "\n",
       "             personLabel             birthDate             deathDate  \n",
       "0            Cozy Powell  1947-12-29T00:00:00Z  1998-04-05T00:00:00Z  \n",
       "1        David Coverdale  1951-09-22T00:00:00Z                   NaN  \n",
       "2         Tommy Aldridge  1950-08-15T00:00:00Z                   NaN  \n",
       "3              Reb Beach  1963-08-31T00:00:00Z                   NaN  \n",
       "4               Jon Lord  1941-06-09T00:00:00Z  2012-07-16T00:00:00Z  \n",
       "...                  ...                   ...                   ...  \n",
       "1155     Markus Heikkerö  1952-01-25T00:00:00Z                   NaN  \n",
       "1156           Randy Oda  1953-01-01T00:00:00Z                   NaN  \n",
       "1157       Tiina Tiikeri  1961-01-01T00:00:00Z                   NaN  \n",
       "1158  Costello Hautamäki  1963-09-11T00:00:00Z                   NaN  \n",
       "1159           Casey Orr  1965-04-22T00:00:00Z                   NaN  \n",
       "\n",
       "[1160 rows x 5 columns]"
      ]
     },
     "execution_count": 17,
     "metadata": {},
     "output_type": "execute_result"
    }
   ],
   "source": [
    "import pandas as pd;\n",
    "data = pd.read_csv(\"source_data/death_and_bands.csv\").drop_duplicates();\n",
    "data"
   ]
  },
  {
   "cell_type": "markdown",
   "metadata": {},
   "source": [
    "We can do all the usual dataframe stuff here. Select a subset of columns, for instance:"
   ]
  },
  {
   "cell_type": "code",
   "execution_count": 18,
   "metadata": {},
   "outputs": [
    {
     "name": "stdout",
     "output_type": "stream",
     "text": [
      "Rows before removing bad birthdates: 1160\n",
      "Rows left: 1157\n"
     ]
    },
    {
     "name": "stderr",
     "output_type": "stream",
     "text": [
      "<ipython-input-18-4e60e2593a0a>:5: SettingWithCopyWarning: \n",
      "A value is trying to be set on a copy of a slice from a DataFrame.\n",
      "Try using .loc[row_indexer,col_indexer] = value instead\n",
      "\n",
      "See the caveats in the documentation: https://pandas.pydata.org/pandas-docs/stable/user_guide/indexing.html#returning-a-view-versus-a-copy\n",
      "  data['birthDate'] = pd.to_datetime(data['birthDate'], errors='coerce');\n"
     ]
    },
    {
     "data": {
      "text/html": [
       "<div>\n",
       "<style scoped>\n",
       "    .dataframe tbody tr th:only-of-type {\n",
       "        vertical-align: middle;\n",
       "    }\n",
       "\n",
       "    .dataframe tbody tr th {\n",
       "        vertical-align: top;\n",
       "    }\n",
       "\n",
       "    .dataframe thead th {\n",
       "        text-align: right;\n",
       "    }\n",
       "</style>\n",
       "<table border=\"1\" class=\"dataframe\">\n",
       "  <thead>\n",
       "    <tr style=\"text-align: right;\">\n",
       "      <th></th>\n",
       "      <th>bandLabel</th>\n",
       "      <th>personLabel</th>\n",
       "      <th>birthDate</th>\n",
       "      <th>deathDate</th>\n",
       "      <th>lifeSpan</th>\n",
       "    </tr>\n",
       "  </thead>\n",
       "  <tbody>\n",
       "    <tr>\n",
       "      <th>0</th>\n",
       "      <td>Whitesnake</td>\n",
       "      <td>Cozy Powell</td>\n",
       "      <td>1947-12-29 00:00:00+00:00</td>\n",
       "      <td>1998-04-05 00:00:00+00:00</td>\n",
       "      <td>18360 days</td>\n",
       "    </tr>\n",
       "    <tr>\n",
       "      <th>4</th>\n",
       "      <td>Whitesnake</td>\n",
       "      <td>Jon Lord</td>\n",
       "      <td>1941-06-09 00:00:00+00:00</td>\n",
       "      <td>2012-07-16 00:00:00+00:00</td>\n",
       "      <td>25970 days</td>\n",
       "    </tr>\n",
       "    <tr>\n",
       "      <th>5</th>\n",
       "      <td>Linkin Park</td>\n",
       "      <td>Chester Bennington</td>\n",
       "      <td>1976-03-20 00:00:00+00:00</td>\n",
       "      <td>2017-07-20 00:00:00+00:00</td>\n",
       "      <td>15097 days</td>\n",
       "    </tr>\n",
       "    <tr>\n",
       "      <th>16</th>\n",
       "      <td>UFO</td>\n",
       "      <td>Pete Way</td>\n",
       "      <td>1951-08-07 00:00:00+00:00</td>\n",
       "      <td>2020-08-14 00:00:00+00:00</td>\n",
       "      <td>25210 days</td>\n",
       "    </tr>\n",
       "    <tr>\n",
       "      <th>37</th>\n",
       "      <td>Jethro Tull</td>\n",
       "      <td>Mark Craney</td>\n",
       "      <td>1952-08-26 00:00:00+00:00</td>\n",
       "      <td>2005-11-26 00:00:00+00:00</td>\n",
       "      <td>19450 days</td>\n",
       "    </tr>\n",
       "    <tr>\n",
       "      <th>...</th>\n",
       "      <td>...</td>\n",
       "      <td>...</td>\n",
       "      <td>...</td>\n",
       "      <td>...</td>\n",
       "      <td>...</td>\n",
       "    </tr>\n",
       "    <tr>\n",
       "      <th>1124</th>\n",
       "      <td>The Pussycats</td>\n",
       "      <td>Sverre Kjelsberg</td>\n",
       "      <td>1946-10-18 00:00:00+00:00</td>\n",
       "      <td>2016-06-19 00:00:00+00:00</td>\n",
       "      <td>25447 days</td>\n",
       "    </tr>\n",
       "    <tr>\n",
       "      <th>1135</th>\n",
       "      <td>Riff (band)</td>\n",
       "      <td>Pappo</td>\n",
       "      <td>1950-03-10 00:00:00+00:00</td>\n",
       "      <td>2005-02-24 00:00:00+00:00</td>\n",
       "      <td>20075 days</td>\n",
       "    </tr>\n",
       "    <tr>\n",
       "      <th>1136</th>\n",
       "      <td>Riff (band)</td>\n",
       "      <td>Pappo</td>\n",
       "      <td>1950-03-10 00:00:00+00:00</td>\n",
       "      <td>2005-02-25 00:00:00+00:00</td>\n",
       "      <td>20076 days</td>\n",
       "    </tr>\n",
       "    <tr>\n",
       "      <th>1142</th>\n",
       "      <td>Impaled Nazarene</td>\n",
       "      <td>Teemu Raimoranta</td>\n",
       "      <td>1977-05-19 00:00:00+00:00</td>\n",
       "      <td>2003-03-16 00:00:00+00:00</td>\n",
       "      <td>9432 days</td>\n",
       "    </tr>\n",
       "    <tr>\n",
       "      <th>1152</th>\n",
       "      <td>King Crimson</td>\n",
       "      <td>Ian Wallace</td>\n",
       "      <td>1946-09-29 00:00:00+00:00</td>\n",
       "      <td>2007-02-22 00:00:00+00:00</td>\n",
       "      <td>22061 days</td>\n",
       "    </tr>\n",
       "  </tbody>\n",
       "</table>\n",
       "<p>156 rows × 5 columns</p>\n",
       "</div>"
      ],
      "text/plain": [
       "             bandLabel         personLabel                 birthDate  \\\n",
       "0           Whitesnake         Cozy Powell 1947-12-29 00:00:00+00:00   \n",
       "4           Whitesnake            Jon Lord 1941-06-09 00:00:00+00:00   \n",
       "5          Linkin Park  Chester Bennington 1976-03-20 00:00:00+00:00   \n",
       "16                 UFO            Pete Way 1951-08-07 00:00:00+00:00   \n",
       "37         Jethro Tull         Mark Craney 1952-08-26 00:00:00+00:00   \n",
       "...                ...                 ...                       ...   \n",
       "1124     The Pussycats    Sverre Kjelsberg 1946-10-18 00:00:00+00:00   \n",
       "1135       Riff (band)               Pappo 1950-03-10 00:00:00+00:00   \n",
       "1136       Riff (band)               Pappo 1950-03-10 00:00:00+00:00   \n",
       "1142  Impaled Nazarene    Teemu Raimoranta 1977-05-19 00:00:00+00:00   \n",
       "1152      King Crimson         Ian Wallace 1946-09-29 00:00:00+00:00   \n",
       "\n",
       "                     deathDate   lifeSpan  \n",
       "0    1998-04-05 00:00:00+00:00 18360 days  \n",
       "4    2012-07-16 00:00:00+00:00 25970 days  \n",
       "5    2017-07-20 00:00:00+00:00 15097 days  \n",
       "16   2020-08-14 00:00:00+00:00 25210 days  \n",
       "37   2005-11-26 00:00:00+00:00 19450 days  \n",
       "...                        ...        ...  \n",
       "1124 2016-06-19 00:00:00+00:00 25447 days  \n",
       "1135 2005-02-24 00:00:00+00:00 20075 days  \n",
       "1136 2005-02-25 00:00:00+00:00 20076 days  \n",
       "1142 2003-03-16 00:00:00+00:00  9432 days  \n",
       "1152 2007-02-22 00:00:00+00:00 22061 days  \n",
       "\n",
       "[156 rows x 5 columns]"
      ]
     },
     "execution_count": 18,
     "metadata": {},
     "output_type": "execute_result"
    }
   ],
   "source": [
    "def nrow(df):\n",
    "    return len(df.index);\n",
    "\n",
    "data = data[['bandLabel','personLabel','birthDate','deathDate']]\n",
    "data['birthDate'] = pd.to_datetime(data['birthDate'], errors='coerce');\n",
    "# we can also filter to those where we have at least a valid birthDate\n",
    "print(\"Rows before removing bad birthdates: {}\".format(nrow(data)))\n",
    "data = data[~pd.isnull(data['birthDate'])];\n",
    "print(\"Rows left: {}\".format(nrow(data)))\n",
    "data['deathDate'] = pd.to_datetime(data['deathDate'], errors='coerce');\n",
    "data['lifeSpan'] = data['deathDate'] - data['birthDate'];\n",
    "\n",
    "just_dead = data[~pd.isnull(data['deathDate'])]\n",
    "just_dead\n"
   ]
  },
  {
   "cell_type": "markdown",
   "metadata": {},
   "source": [
    "So now what about group by and summarise? Again, this is shockingly harder than it should be. And note that we don't even get a data frame back. We get something called a \"Series\" object."
   ]
  },
  {
   "cell_type": "code",
   "execution_count": 19,
   "metadata": {},
   "outputs": [
    {
     "data": {
      "text/plain": [
       "bandLabel\n",
       "Molly Hatchet                  7\n",
       "Jethro Tull                    3\n",
       "The Arnold Corns               3\n",
       "The Cars                       3\n",
       "The Who                        3\n",
       "                              ..\n",
       "Montrose                       1\n",
       "Voodoocult                     1\n",
       "Nautilus Pompilius             1\n",
       "Nick Cave and the Bad Seeds    1\n",
       "3 (UK band)                    1\n",
       "Name: bandLabel, Length: 112, dtype: int64"
      ]
     },
     "execution_count": 19,
     "metadata": {},
     "output_type": "execute_result"
    }
   ],
   "source": [
    "just_dead.groupby('bandLabel')['bandLabel'].count().sort_values(ascending=False)"
   ]
  },
  {
   "cell_type": "markdown",
   "metadata": {},
   "source": [
    "More complicated aggregations are accomplished via the `.agg` method:"
   ]
  },
  {
   "cell_type": "code",
   "execution_count": 20,
   "metadata": {},
   "outputs": [
    {
     "data": {
      "text/html": [
       "<div>\n",
       "<style scoped>\n",
       "    .dataframe tbody tr th:only-of-type {\n",
       "        vertical-align: middle;\n",
       "    }\n",
       "\n",
       "    .dataframe tbody tr th {\n",
       "        vertical-align: top;\n",
       "    }\n",
       "\n",
       "    .dataframe thead th {\n",
       "        text-align: right;\n",
       "    }\n",
       "</style>\n",
       "<table border=\"1\" class=\"dataframe\">\n",
       "  <thead>\n",
       "    <tr style=\"text-align: right;\">\n",
       "      <th></th>\n",
       "      <th>n_alive</th>\n",
       "      <th>n_dead</th>\n",
       "      <th>p_dead</th>\n",
       "    </tr>\n",
       "    <tr>\n",
       "      <th>bandLabel</th>\n",
       "      <th></th>\n",
       "      <th></th>\n",
       "      <th></th>\n",
       "    </tr>\n",
       "  </thead>\n",
       "  <tbody>\n",
       "    <tr>\n",
       "      <th>Dead or Alive</th>\n",
       "      <td>0</td>\n",
       "      <td>2</td>\n",
       "      <td>1.0</td>\n",
       "    </tr>\n",
       "    <tr>\n",
       "      <th>The Angels</th>\n",
       "      <td>0</td>\n",
       "      <td>2</td>\n",
       "      <td>1.0</td>\n",
       "    </tr>\n",
       "    <tr>\n",
       "      <th>Maanam</th>\n",
       "      <td>0</td>\n",
       "      <td>1</td>\n",
       "      <td>1.0</td>\n",
       "    </tr>\n",
       "    <tr>\n",
       "      <th>Therapy?</th>\n",
       "      <td>0</td>\n",
       "      <td>1</td>\n",
       "      <td>1.0</td>\n",
       "    </tr>\n",
       "    <tr>\n",
       "      <th>Los Abuelos de la Nada</th>\n",
       "      <td>0</td>\n",
       "      <td>2</td>\n",
       "      <td>1.0</td>\n",
       "    </tr>\n",
       "    <tr>\n",
       "      <th>...</th>\n",
       "      <td>...</td>\n",
       "      <td>...</td>\n",
       "      <td>...</td>\n",
       "    </tr>\n",
       "    <tr>\n",
       "      <th>Keep of Kalessin</th>\n",
       "      <td>2</td>\n",
       "      <td>0</td>\n",
       "      <td>0.0</td>\n",
       "    </tr>\n",
       "    <tr>\n",
       "      <th>Kashmir</th>\n",
       "      <td>3</td>\n",
       "      <td>0</td>\n",
       "      <td>0.0</td>\n",
       "    </tr>\n",
       "    <tr>\n",
       "      <th>Kansas</th>\n",
       "      <td>1</td>\n",
       "      <td>0</td>\n",
       "      <td>0.0</td>\n",
       "    </tr>\n",
       "    <tr>\n",
       "      <th>Kamelot</th>\n",
       "      <td>2</td>\n",
       "      <td>0</td>\n",
       "      <td>0.0</td>\n",
       "    </tr>\n",
       "    <tr>\n",
       "      <th>Ángeles del Infierno</th>\n",
       "      <td>2</td>\n",
       "      <td>0</td>\n",
       "      <td>0.0</td>\n",
       "    </tr>\n",
       "  </tbody>\n",
       "</table>\n",
       "<p>488 rows × 3 columns</p>\n",
       "</div>"
      ],
      "text/plain": [
       "                        n_alive  n_dead  p_dead\n",
       "bandLabel                                      \n",
       "Dead or Alive                 0       2     1.0\n",
       "The Angels                    0       2     1.0\n",
       "Maanam                        0       1     1.0\n",
       "Therapy?                      0       1     1.0\n",
       "Los Abuelos de la Nada        0       2     1.0\n",
       "...                         ...     ...     ...\n",
       "Keep of Kalessin              2       0     0.0\n",
       "Kashmir                       3       0     0.0\n",
       "Kansas                        1       0     0.0\n",
       "Kamelot                       2       0     0.0\n",
       "Ángeles del Infierno          2       0     0.0\n",
       "\n",
       "[488 rows x 3 columns]"
      ]
     },
     "execution_count": 20,
     "metadata": {},
     "output_type": "execute_result"
    }
   ],
   "source": [
    "a = data.groupby('bandLabel').agg(\n",
    "    n_alive=pd.NamedAgg(column='deathDate',aggfunc=lambda ls: pd.Series.sum(pd.isnull(ls))),\n",
    "    n_dead=pd.NamedAgg(column='deathDate',aggfunc=lambda ls: pd.Series.sum(~pd.isnull(ls))),\n",
    "    p_dead=pd.NamedAgg(column='lifeSpan',aggfunc=lambda ls: pd.Series.sum(~pd.isnull(ls))/len(ls))).sort_values(['p_dead'],ascending=False)\n",
    "a"
   ]
  },
  {
   "cell_type": "markdown",
   "metadata": {},
   "source": [
    "Apparently our data has some problems - as cool as wikidata is, this kind of thing is pretty common.\n",
    "\n",
    "We've just scratched the surface here - pandas is a nightmarish warren of features. You will probably have to read the docs to accomplish the non-trivial but it can be done.\n",
    "\n",
    "Plotting\n",
    "========\n",
    "\n",
    "The most common Python plotting libraries are not all that much like ggplot. We'll start with matplotlib."
   ]
  },
  {
   "cell_type": "code",
   "execution_count": 21,
   "metadata": {},
   "outputs": [
    {
     "data": {
      "text/plain": [
       "Text(0.5, 0, 'Some random numbers')"
      ]
     },
     "execution_count": 21,
     "metadata": {},
     "output_type": "execute_result"
    },
    {
     "data": {
      "image/png": "[encoded data removed]",
      "text/plain": [
       "<Figure size 432x288 with 1 Axes>"
      ]
     },
     "metadata": {
      "needs_background": "light"
     },
     "output_type": "display_data"
    }
   ],
   "source": [
    "import matplotlib.pyplot as plt\n",
    "import numpy as np\n",
    "\n",
    "## the pyplot api is much more procedural than ggplot. \n",
    "\n",
    "plt.plot(np.random.ranf(100),np.random.ranf(100))\n",
    "plt.xlabel(\"Some random numbers\")"
   ]
  },
  {
   "cell_type": "markdown",
   "metadata": {},
   "source": [
    "This is probably better as a scatter plot:"
   ]
  },
  {
   "cell_type": "code",
   "execution_count": 22,
   "metadata": {},
   "outputs": [
    {
     "data": {
      "text/plain": [
       "<matplotlib.collections.PathCollection at 0x7f2f8e208c10>"
      ]
     },
     "execution_count": 22,
     "metadata": {},
     "output_type": "execute_result"
    },
    {
     "data": {
      "image/png": "[encoded data removed]",
      "text/plain": [
       "<Figure size 432x288 with 1 Axes>"
      ]
     },
     "metadata": {
      "needs_background": "light"
     },
     "output_type": "display_data"
    }
   ],
   "source": [
    "plt.scatter(np.random.ranf(100),np.random.ranf(100))"
   ]
  },
  {
   "cell_type": "markdown",
   "metadata": {},
   "source": [
    "If we want to color code our points we have to do it like this:"
   ]
  },
  {
   "cell_type": "code",
   "execution_count": 23,
   "metadata": {},
   "outputs": [
    {
     "data": {
      "text/plain": [
       "<matplotlib.collections.PathCollection at 0x7f2f8e174ee0>"
      ]
     },
     "execution_count": 23,
     "metadata": {},
     "output_type": "execute_result"
    },
    {
     "data": {
      "image/png": "[encoded data removed]",
      "text/plain": [
       "<Figure size 432x288 with 1 Axes>"
      ]
     },
     "metadata": {
      "needs_background": "light"
     },
     "output_type": "display_data"
    }
   ],
   "source": [
    "plt.scatter(np.random.ranf(100),np.random.ranf(100),c=np.random.randint(0,10,100))"
   ]
  },
  {
   "cell_type": "markdown",
   "metadata": {},
   "source": [
    "The net effect of this is that you really can't learn any high level concepts with Matplotlib. You just need to memorize the [API](https://matplotlib.org/3.1.1/index.html). There is a different plot function for each supported type. Eg:"
   ]
  },
  {
   "cell_type": "code",
   "execution_count": 24,
   "metadata": {},
   "outputs": [
    {
     "data": {
      "image/png": "[encoded data removed]",
      "text/plain": [
       "<Figure size 432x288 with 1 Axes>"
      ]
     },
     "metadata": {
      "needs_background": "light"
     },
     "output_type": "display_data"
    }
   ],
   "source": [
    "\n",
    "subset = a.sort_values('n_dead',ascending=False).head(10);\n",
    "plt.bar(subset.index, subset['n_dead'])\n",
    "plt.xticks(rotation=90);"
   ]
  },
  {
   "cell_type": "markdown",
   "metadata": {},
   "source": [
    "Note that to modify the plot we relied upon a side effect onto the current plot. This is less elegant than the way the tidyverse works - we modify a ggplot by adding onto it with some values created by utility functions. This relies on some mysterious global state.\n",
    "\n",
    "There are other plotting solutions. Let's look at plotnine:"
   ]
  },
  {
   "cell_type": "code",
   "execution_count": 25,
   "metadata": {},
   "outputs": [
    {
     "data": {
      "image/png": "[encoded data removed]",
      "text/plain": [
       "<Figure size 640x480 with 1 Axes>"
      ]
     },
     "metadata": {},
     "output_type": "display_data"
    },
    {
     "data": {
      "text/plain": [
       "<ggplot: (8740138956831)>"
      ]
     },
     "execution_count": 25,
     "metadata": {},
     "output_type": "execute_result"
    }
   ],
   "source": [
    "from plotnine import *\n",
    "\n",
    "# Convert the index column back to a full column\n",
    "subset['bandLabel'] = subset.index;\n",
    "\n",
    "# make it categorical - this is exactly what we did with factor variables \n",
    "# in R ggplot.\n",
    "subset['bandLabel'] = pd.Categorical(subset['bandLabel'],categories=subset['bandLabel'])\n",
    "\n",
    "## plotnine is an implementation of ggplot although we have to work with it slightly differently because of the way python is\n",
    "\n",
    "(ggplot(subset, aes(\"bandLabel\",\"n_dead\")) + \n",
    " geom_bar(stat=\"identity\") + \n",
    " theme(axis_text_x=element_text(rotation=90)))"
   ]
  },
  {
   "cell_type": "markdown",
   "metadata": {},
   "source": [
    "You may find that your brain will prefer to just fight with plotnine's minor differences than try to express yourself in an entirely different plotting idiom.\n",
    "\n",
    "Polyglot Workflows\n",
    "------------------\n",
    "\n",
    "Don't forget - because we separate each task into a small script and because we control the execution environment for our entire system via Docker and because we can chain together arbitrary tasks via Make, you can easily process your data with Python and make figures with R or vice versa. Thinking in small steps makes you more flexible.\n",
    "\n",
    "Bokeh\n",
    "-----"
   ]
  },
  {
   "cell_type": "code",
   "execution_count": 26,
   "metadata": {},
   "outputs": [],
   "source": [
    "from bokeh.plotting import figure, output_file, show\n",
    "\n",
    "# prepare some data\n",
    "x = [0.1, 0.5, 1.0, 1.5, 2.0, 2.5, 3.0]\n",
    "y0 = [i**2 for i in x]\n",
    "y1 = [10**i for i in x]\n",
    "y2 = [10**(i**2) for i in x]\n",
    "\n",
    "# output to static HTML file\n",
    "output_file(\"log_lines.html\")\n",
    "\n",
    "# create a new plot\n",
    "p = figure(\n",
    "   tools=\"pan,box_zoom,reset,save\",\n",
    "   y_axis_type=\"log\", y_range=[0.001, 10**11], title=\"log axis example\",\n",
    "   x_axis_label='sections', y_axis_label='particles'\n",
    ")\n",
    "\n",
    "# add some renderers\n",
    "p.line(x, x, legend_label=\"y=x\")\n",
    "p.circle(x, x, legend_label=\"y=x\", fill_color=\"white\", size=8)\n",
    "p.line(x, y0, legend_label=\"y=x^2\", line_width=3)\n",
    "p.line(x, y1, legend_label=\"y=10^x\", line_color=\"red\")\n",
    "p.circle(x, y1, legend_label=\"y=10^x\", fill_color=\"red\", line_color=\"red\", size=6)\n",
    "p.line(x, y2, legend_label=\"y=10^x^2\", line_color=\"orange\", line_dash=\"4 4\")\n",
    "\n",
    "## This should appear here but no luck\n",
    "show(p)\n"
   ]
  },
  {
   "cell_type": "markdown",
   "metadata": {},
   "source": [
    "Plotting Summary\n",
    "----------------\n",
    "\n",
    "1. matplotlib is the most common but also the most primitive plotting system. It depends on a global state which you modify using function calls.\n",
    "2. plotnine is less than standard but presents an almost identical face as ggplot - differences of subtle and not-so-subtle type abound and so it might be frustrating to use.\n",
    "3. bokeh has a very good reputation and produces interactive plots.\n",
    "\n",
    "sklearn\n",
    "=======\n",
    "\n",
    "SKLearn is a big library of statistical and machine learning methods. It is well organized but a little less easy to use than R in some ways. You'll encounter the same sort of problems that you encountered there: variable encoding for categorical variables, dealing with date times, dealing with missing and/or bad data.\n",
    "\n",
    "sklearn hello world\n",
    "-------------------\n",
    "\n",
    "(Borrowed from: https://medium.com/analytics-vidhya/linear-regression-using-iris-dataset-hello-world-of-machine-learning-b0feecac9cc1)"
   ]
  },
  {
   "cell_type": "code",
   "execution_count": 27,
   "metadata": {},
   "outputs": [
    {
     "data": {
      "text/html": [
       "<div>\n",
       "<style scoped>\n",
       "    .dataframe tbody tr th:only-of-type {\n",
       "        vertical-align: middle;\n",
       "    }\n",
       "\n",
       "    .dataframe tbody tr th {\n",
       "        vertical-align: top;\n",
       "    }\n",
       "\n",
       "    .dataframe thead th {\n",
       "        text-align: right;\n",
       "    }\n",
       "</style>\n",
       "<table border=\"1\" class=\"dataframe\">\n",
       "  <thead>\n",
       "    <tr style=\"text-align: right;\">\n",
       "      <th></th>\n",
       "      <th>sepal length (cm)</th>\n",
       "      <th>sepal width (cm)</th>\n",
       "      <th>petal length (cm)</th>\n",
       "      <th>petal width (cm)</th>\n",
       "      <th>species</th>\n",
       "    </tr>\n",
       "  </thead>\n",
       "  <tbody>\n",
       "    <tr>\n",
       "      <th>0</th>\n",
       "      <td>5.1</td>\n",
       "      <td>3.5</td>\n",
       "      <td>1.4</td>\n",
       "      <td>0.2</td>\n",
       "      <td>setosa</td>\n",
       "    </tr>\n",
       "    <tr>\n",
       "      <th>1</th>\n",
       "      <td>4.9</td>\n",
       "      <td>3.0</td>\n",
       "      <td>1.4</td>\n",
       "      <td>0.2</td>\n",
       "      <td>setosa</td>\n",
       "    </tr>\n",
       "    <tr>\n",
       "      <th>2</th>\n",
       "      <td>4.7</td>\n",
       "      <td>3.2</td>\n",
       "      <td>1.3</td>\n",
       "      <td>0.2</td>\n",
       "      <td>setosa</td>\n",
       "    </tr>\n",
       "    <tr>\n",
       "      <th>3</th>\n",
       "      <td>4.6</td>\n",
       "      <td>3.1</td>\n",
       "      <td>1.5</td>\n",
       "      <td>0.2</td>\n",
       "      <td>setosa</td>\n",
       "    </tr>\n",
       "    <tr>\n",
       "      <th>4</th>\n",
       "      <td>5.0</td>\n",
       "      <td>3.6</td>\n",
       "      <td>1.4</td>\n",
       "      <td>0.2</td>\n",
       "      <td>setosa</td>\n",
       "    </tr>\n",
       "    <tr>\n",
       "      <th>...</th>\n",
       "      <td>...</td>\n",
       "      <td>...</td>\n",
       "      <td>...</td>\n",
       "      <td>...</td>\n",
       "      <td>...</td>\n",
       "    </tr>\n",
       "    <tr>\n",
       "      <th>145</th>\n",
       "      <td>6.7</td>\n",
       "      <td>3.0</td>\n",
       "      <td>5.2</td>\n",
       "      <td>2.3</td>\n",
       "      <td>virginica</td>\n",
       "    </tr>\n",
       "    <tr>\n",
       "      <th>146</th>\n",
       "      <td>6.3</td>\n",
       "      <td>2.5</td>\n",
       "      <td>5.0</td>\n",
       "      <td>1.9</td>\n",
       "      <td>virginica</td>\n",
       "    </tr>\n",
       "    <tr>\n",
       "      <th>147</th>\n",
       "      <td>6.5</td>\n",
       "      <td>3.0</td>\n",
       "      <td>5.2</td>\n",
       "      <td>2.0</td>\n",
       "      <td>virginica</td>\n",
       "    </tr>\n",
       "    <tr>\n",
       "      <th>148</th>\n",
       "      <td>6.2</td>\n",
       "      <td>3.4</td>\n",
       "      <td>5.4</td>\n",
       "      <td>2.3</td>\n",
       "      <td>virginica</td>\n",
       "    </tr>\n",
       "    <tr>\n",
       "      <th>149</th>\n",
       "      <td>5.9</td>\n",
       "      <td>3.0</td>\n",
       "      <td>5.1</td>\n",
       "      <td>1.8</td>\n",
       "      <td>virginica</td>\n",
       "    </tr>\n",
       "  </tbody>\n",
       "</table>\n",
       "<p>150 rows × 5 columns</p>\n",
       "</div>"
      ],
      "text/plain": [
       "     sepal length (cm)  sepal width (cm)  petal length (cm)  petal width (cm)  \\\n",
       "0                  5.1               3.5                1.4               0.2   \n",
       "1                  4.9               3.0                1.4               0.2   \n",
       "2                  4.7               3.2                1.3               0.2   \n",
       "3                  4.6               3.1                1.5               0.2   \n",
       "4                  5.0               3.6                1.4               0.2   \n",
       "..                 ...               ...                ...               ...   \n",
       "145                6.7               3.0                5.2               2.3   \n",
       "146                6.3               2.5                5.0               1.9   \n",
       "147                6.5               3.0                5.2               2.0   \n",
       "148                6.2               3.4                5.4               2.3   \n",
       "149                5.9               3.0                5.1               1.8   \n",
       "\n",
       "       species  \n",
       "0       setosa  \n",
       "1       setosa  \n",
       "2       setosa  \n",
       "3       setosa  \n",
       "4       setosa  \n",
       "..         ...  \n",
       "145  virginica  \n",
       "146  virginica  \n",
       "147  virginica  \n",
       "148  virginica  \n",
       "149  virginica  \n",
       "\n",
       "[150 rows x 5 columns]"
      ]
     },
     "execution_count": 27,
     "metadata": {},
     "output_type": "execute_result"
    }
   ],
   "source": [
    "# Import Dataset from sklearn\n",
    "import pandas as pd\n",
    "from sklearn.datasets import load_iris# Load Iris Data\n",
    "iris = load_iris()# Creating pd DataFrames\n",
    "iris_df = pd.DataFrame(data= iris.data, columns= iris.feature_names)\n",
    "target_df = pd.DataFrame(data= iris.target, columns= ['species'])\n",
    "\n",
    "mapping = [\"setosa\",\"versicolor\",\"virginica\"];\n",
    "def converter(specie):\n",
    "    return mapping[specie];\n",
    "    \n",
    "target_df['species'] = target_df['species'].apply(converter)# Concatenate the DataFrames\n",
    "\n",
    "iris_df = pd.concat([iris_df, target_df], axis= 1)\n",
    "iris_df"
   ]
  },
  {
   "cell_type": "markdown",
   "metadata": {},
   "source": [
    "Using sklearn goes like this.\n",
    "\n",
    "1. What do I want to do\n",
    "2. google \"sk learn\" \"thing\"\n",
    "3. read the documentation a little bit\n",
    "4. call \"fit\" and then \"predict\"\n",
    "5. model characterization, selection, etc\n",
    "\n",
    "Just about everything sklearn does is object oriented and based around the \"fit\" and \"predict\". "
   ]
  },
  {
   "cell_type": "code",
   "execution_count": 28,
   "metadata": {},
   "outputs": [
    {
     "data": {
      "image/png": "[encoded data removed]",
      "text/plain": [
       "<Figure size 640x480 with 1 Axes>"
      ]
     },
     "metadata": {},
     "output_type": "display_data"
    },
    {
     "data": {
      "text/plain": [
       "<ggplot: (8740092160687)>"
      ]
     },
     "execution_count": 28,
     "metadata": {},
     "output_type": "execute_result"
    }
   ],
   "source": [
    "from sklearn.linear_model import LinearRegression\n",
    "from sklearn.model_selection import train_test_split\n",
    "from plotnine import *\n",
    "\n",
    "\n",
    "iris_dfns = iris_df.drop(\"species\",axis=1)\n",
    "X = iris_dfns.drop(\"petal width (cm)\",axis=1)\n",
    "y = iris_dfns[\"petal width (cm)\"];\n",
    "\n",
    "## Note the use of multiple return values.\n",
    "## One of Python's many \"dumb programming language tricks\"\n",
    "X_train, X_test, y_train, y_test = train_test_split(X,y,test_size = 0.33);\n",
    "\n",
    "## Create the Regression Object:\n",
    "\n",
    "lm = LinearRegression();\n",
    "\n",
    "## and fit it\n",
    "\n",
    "lm.fit(X_train, y_train)\n",
    "\n",
    "results = pd.DataFrame({\"actual\":y_test, \"predicted\":lm.predict(X_test)});\n",
    "\n",
    "(ggplot(results, aes(\"actual\",\"predicted\")) + geom_point())\n",
    "\n"
   ]
  },
  {
   "cell_type": "markdown",
   "metadata": {},
   "source": [
    "Example 2: [Clustering](https://scikit-learn.org/stable/modules/clustering.html#clustering)\n",
    "-------------------------------------------------------------------------------------------"
   ]
  },
  {
   "cell_type": "code",
   "execution_count": 29,
   "metadata": {},
   "outputs": [
    {
     "name": "stderr",
     "output_type": "stream",
     "text": [
      "/usr/local/lib/python3.8/dist-packages/plotnine/stats/stat_bin.py:93: PlotnineWarning: 'stat_bin()' using 'bins = 38'. Pick better value with 'binwidth'.\n"
     ]
    },
    {
     "data": {
      "image/png": "[encoded data removed]",
      "text/plain": [
       "<Figure size 640x480 with 1 Axes>"
      ]
     },
     "metadata": {},
     "output_type": "display_data"
    },
    {
     "data": {
      "text/plain": [
       "<ggplot: (8740088237502)>"
      ]
     },
     "execution_count": 29,
     "metadata": {},
     "output_type": "execute_result"
    }
   ],
   "source": [
    "from sklearn.cluster import SpectralClustering\n",
    "from sklearn.metrics import pairwise_distances\n",
    "from sklearn.preprocessing import MinMaxScaler\n",
    "import numpy as np\n",
    "\n",
    "mms = MinMaxScaler();\n",
    "\n",
    "normed = mms.fit_transform(iris_dfns)\n",
    "distances = pairwise_distances(normed)\n",
    "\n",
    "\n",
    "(ggplot(pd.DataFrame({\"distance\":distances.reshape(np.product(distances.shape))}),\n",
    "       aes(\"distance\")) + geom_histogram())"
   ]
  },
  {
   "cell_type": "markdown",
   "metadata": {},
   "source": [
    "Let's just say that anything less than 0.5 is adjacent."
   ]
  },
  {
   "cell_type": "code",
   "execution_count": 30,
   "metadata": {},
   "outputs": [
    {
     "data": {
      "text/plain": [
       "array([[ True,  True,  True, ..., False, False, False],\n",
       "       [ True,  True,  True, ..., False, False, False],\n",
       "       [ True,  True,  True, ..., False, False, False],\n",
       "       ...,\n",
       "       [False, False, False, ...,  True,  True,  True],\n",
       "       [False, False, False, ...,  True,  True,  True],\n",
       "       [False, False, False, ...,  True,  True,  True]])"
      ]
     },
     "execution_count": 30,
     "metadata": {},
     "output_type": "execute_result"
    }
   ],
   "source": [
    "adj = distances < 0.5\n",
    "adj"
   ]
  },
  {
   "cell_type": "code",
   "execution_count": 48,
   "metadata": {},
   "outputs": [],
   "source": [
    "sc = SpectralClustering(3,affinity=\"precomputed\")\n",
    "iris_df['cluster'] = sc.fit_predict(adj);\n",
    "iris_df['cluster_dodged'] = iris_df['cluster'] + np.random.randn(nrow(iris_df))*0.1\n",
    "def make_dodged_species(species):\n",
    "    return mapping.index(species) + np.random.randn()*0.1;\n",
    "    \n",
    "iris_df['species_dodged'] = iris_df['species'].apply(make_dodged_species);"
   ]
  },
  {
   "cell_type": "code",
   "execution_count": 49,
   "metadata": {},
   "outputs": [
    {
     "data": {
      "image/png": "[encoded data removed]",
      "text/plain": [
       "<Figure size 640x480 with 1 Axes>"
      ]
     },
     "metadata": {},
     "output_type": "display_data"
    },
    {
     "data": {
      "text/plain": [
       "<ggplot: (8740086334708)>"
      ]
     },
     "execution_count": 49,
     "metadata": {},
     "output_type": "execute_result"
    }
   ],
   "source": [
    "(ggplot(iris_df,aes(\"cluster_dodged\",\"species_dodged\")) + geom_point(alpha=0.4))"
   ]
  },
  {
   "cell_type": "code",
   "execution_count": 33,
   "metadata": {},
   "outputs": [
    {
     "data": {
      "text/plain": [
       "array(['setosa', 'versicolor', 'virginica'], dtype=object)"
      ]
     },
     "execution_count": 33,
     "metadata": {},
     "output_type": "execute_result"
    }
   ],
   "source": [
    "iris_df['species'].unique()"
   ]
  },
  {
   "cell_type": "code",
   "execution_count": 34,
   "metadata": {},
   "outputs": [
    {
     "data": {
      "image/png": "[encoded data removed]",
      "text/plain": [
       "<Figure size 640x480 with 1 Axes>"
      ]
     },
     "metadata": {},
     "output_type": "display_data"
    },
    {
     "data": {
      "text/plain": [
       "<ggplot: (8740087754165)>"
      ]
     },
     "execution_count": 34,
     "metadata": {},
     "output_type": "execute_result"
    }
   ],
   "source": [
    "(ggplot(iris_df,aes(\"sepal length (cm)\",\"petal width (cm)\")) + geom_point(aes(color=\"cluster\")))"
   ]
  },
  {
   "cell_type": "markdown",
   "metadata": {},
   "source": [
    "Ok, let's go a bit further and do some dimensionality reduction to go along with this clustering."
   ]
  },
  {
   "cell_type": "code",
   "execution_count": 55,
   "metadata": {},
   "outputs": [
    {
     "data": {
      "image/png": "[encoded data removed]",
      "text/plain": [
       "<Figure size 640x480 with 1 Axes>"
      ]
     },
     "metadata": {},
     "output_type": "display_data"
    },
    {
     "data": {
      "text/plain": [
       "<ggplot: (8740085748477)>"
      ]
     },
     "execution_count": 55,
     "metadata": {},
     "output_type": "execute_result"
    }
   ],
   "source": [
    "from sklearn.manifold import TSNE\n",
    "\n",
    "projection = TSNE(n_components=2).fit_transform(normed);\n",
    "lowd = pd.DataFrame(projection, columns=[\"X1\",\"X2\"])\n",
    "lowd[\"cluster\"] = iris_df[\"cluster\"];\n",
    "(ggplot(lowd,aes(\"X1\",\"X2\")) + geom_point(aes(color=\"cluster\")))"
   ]
  },
  {
   "cell_type": "code",
   "execution_count": 2,
   "metadata": {},
   "outputs": [
    {
     "name": "stdout",
     "output_type": "stream",
     "text": [
      "/usr/local/lib/R/library/methods/libs/methods.so\n"
     ]
    }
   ],
   "source": []
  },
  {
   "cell_type": "code",
   "execution_count": null,
   "metadata": {},
   "outputs": [],
   "source": []
  }
 ],
 "metadata": {
  "kernelspec": {
   "display_name": "Python 3 (ipykernel)",
   "language": "python",
   "name": "python3"
  },
  "language_info": {
   "codemirror_mode": {
    "name": "ipython",
    "version": 3
   },
   "file_extension": ".py",
   "mimetype": "text/x-python",
   "name": "python",
   "nbconvert_exporter": "python",
   "pygments_lexer": "ipython3",
   "version": "3.8.10"
  }
 },
 "nbformat": 4,
 "nbformat_minor": 4
}
